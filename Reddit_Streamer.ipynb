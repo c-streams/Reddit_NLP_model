{
 "cells": [
  {
   "cell_type": "markdown",
   "metadata": {
    "focus": false,
    "id": "69b9a648-bcc7-490d-9f9b-ea244d156bd6"
   },
   "source": [
    "# Using Reddit's API for Predicting Comments \n",
    "## Project 3: Caitlin Streamer\n",
    "### Personal Website: https://caitlinstreamer.wordpress.com/portfolio/hot-or-not-creating-popular-reddit-posts/"
   ]
  },
  {
   "cell_type": "markdown",
   "metadata": {
    "focus": false,
    "id": "a948d79c-5527-4c0d-ab23-f5d43ce72056"
   },
   "source": [
    "## Step 1: Scraping Thread Info from Reddit.com"
   ]
  },
  {
   "cell_type": "code",
   "execution_count": 1,
   "metadata": {},
   "outputs": [],
   "source": [
    "# Import libraries for the whole notebook \n",
    "import requests\n",
    "import json\n",
    "import pandas as pd\n",
    "import numpy as np\n",
    "from time import sleep\n",
    "import seaborn as sns\n",
    "import matplotlib.pyplot as plt\n",
    "import datetime as datetime\n",
    "import sklearn.metrics as metrics\n",
    "from sklearn.model_selection import train_test_split, GridSearchCV, cross_val_score\n",
    "from sklearn.feature_extraction.text import CountVectorizer, TfidfVectorizer\n",
    "from sklearn.linear_model import LogisticRegression\n",
    "from sklearn.pipeline import Pipeline\n",
    "from sklearn.naive_bayes import MultinomialNB\n",
    "from sklearn.preprocessing import StandardScaler\n",
    "from sklearn.neighbors import KNeighborsClassifier\n",
    "from sklearn.tree import DecisionTreeClassifier\n",
    "from sklearn.ensemble import RandomForestClassifier\n",
    "\n",
    "plt.style.use('fivethirtyeight')\n",
    "\n",
    "%config InlineBackend.figure_format = 'retina'\n",
    "%matplotlib inline"
   ]
  },
  {
   "cell_type": "code",
   "execution_count": 2,
   "metadata": {},
   "outputs": [],
   "source": [
    "# Define URL and get request from Reddit\n",
    "URL = \"http://www.reddit.com/hot.json\"\n",
    "res = requests.get(URL, headers = {'User-agent':'Caitlin Bot 0.1'})"
   ]
  },
  {
   "cell_type": "code",
   "execution_count": 3,
   "metadata": {},
   "outputs": [],
   "source": [
    "# Convert API response into a dictionary \n",
    "data = res.json()"
   ]
  },
  {
   "cell_type": "code",
   "execution_count": 4,
   "metadata": {},
   "outputs": [
    {
     "data": {
      "text/plain": [
       "dict_keys(['kind', 'data'])"
      ]
     },
     "execution_count": 4,
     "metadata": {},
     "output_type": "execute_result"
    }
   ],
   "source": [
    "# Inspect the hierarchy of the json dictionary \n",
    "data.keys()"
   ]
  },
  {
   "cell_type": "code",
   "execution_count": 5,
   "metadata": {},
   "outputs": [
    {
     "data": {
      "text/plain": [
       "dict_keys(['modhash', 'dist', 'children', 'after', 'before'])"
      ]
     },
     "execution_count": 5,
     "metadata": {},
     "output_type": "execute_result"
    }
   ],
   "source": [
    "# Data key value is a dictionary with a children key -- where all the post information is \n",
    "data['data'].keys()"
   ]
  },
  {
   "cell_type": "code",
   "execution_count": 6,
   "metadata": {},
   "outputs": [
    {
     "name": "stdout",
     "output_type": "stream",
     "text": [
      "25\n"
     ]
    }
   ],
   "source": [
    "# Number of top posts in intial scrape - 25\n",
    "print(len(data['data']['children']))"
   ]
  },
  {
   "cell_type": "code",
   "execution_count": 7,
   "metadata": {},
   "outputs": [
    {
     "data": {
      "text/html": [
       "<div>\n",
       "<style scoped>\n",
       "    .dataframe tbody tr th:only-of-type {\n",
       "        vertical-align: middle;\n",
       "    }\n",
       "\n",
       "    .dataframe tbody tr th {\n",
       "        vertical-align: top;\n",
       "    }\n",
       "\n",
       "    .dataframe thead th {\n",
       "        text-align: right;\n",
       "    }\n",
       "</style>\n",
       "<table border=\"1\" class=\"dataframe\">\n",
       "  <thead>\n",
       "    <tr style=\"text-align: right;\">\n",
       "      <th></th>\n",
       "      <th>approved_at_utc</th>\n",
       "      <th>approved_by</th>\n",
       "      <th>archived</th>\n",
       "      <th>author</th>\n",
       "      <th>author_flair_css_class</th>\n",
       "      <th>author_flair_template_id</th>\n",
       "      <th>author_flair_text</th>\n",
       "      <th>banned_at_utc</th>\n",
       "      <th>banned_by</th>\n",
       "      <th>can_gild</th>\n",
       "      <th>...</th>\n",
       "      <th>thumbnail_width</th>\n",
       "      <th>title</th>\n",
       "      <th>ups</th>\n",
       "      <th>url</th>\n",
       "      <th>user_reports</th>\n",
       "      <th>view_count</th>\n",
       "      <th>visited</th>\n",
       "      <th>whitelist_status</th>\n",
       "      <th>wls</th>\n",
       "      <th>time fetched</th>\n",
       "    </tr>\n",
       "  </thead>\n",
       "  <tbody>\n",
       "    <tr>\n",
       "      <th>0</th>\n",
       "      <td>None</td>\n",
       "      <td>None</td>\n",
       "      <td>False</td>\n",
       "      <td>Cigs_in_side</td>\n",
       "      <td>None</td>\n",
       "      <td>None</td>\n",
       "      <td>None</td>\n",
       "      <td>None</td>\n",
       "      <td>None</td>\n",
       "      <td>False</td>\n",
       "      <td>...</td>\n",
       "      <td>140.0</td>\n",
       "      <td>Child for sale</td>\n",
       "      <td>15615</td>\n",
       "      <td>https://i.redd.it/nyenf6bxxd111.jpg</td>\n",
       "      <td>[]</td>\n",
       "      <td>None</td>\n",
       "      <td>False</td>\n",
       "      <td>promo_all</td>\n",
       "      <td>5</td>\n",
       "      <td>2018-06-01 15:58:07.690979+00:00</td>\n",
       "    </tr>\n",
       "    <tr>\n",
       "      <th>1</th>\n",
       "      <td>None</td>\n",
       "      <td>None</td>\n",
       "      <td>False</td>\n",
       "      <td>unknown_human</td>\n",
       "      <td>None</td>\n",
       "      <td>None</td>\n",
       "      <td>None</td>\n",
       "      <td>None</td>\n",
       "      <td>None</td>\n",
       "      <td>False</td>\n",
       "      <td>...</td>\n",
       "      <td>140.0</td>\n",
       "      <td>Conan at a pub in Belfast yesterday (x-post /r...</td>\n",
       "      <td>21938</td>\n",
       "      <td>https://i.imgur.com/jxSdMv2.gifv</td>\n",
       "      <td>[]</td>\n",
       "      <td>None</td>\n",
       "      <td>False</td>\n",
       "      <td>all_ads</td>\n",
       "      <td>6</td>\n",
       "      <td>2018-06-01 15:58:07.690979+00:00</td>\n",
       "    </tr>\n",
       "    <tr>\n",
       "      <th>2</th>\n",
       "      <td>None</td>\n",
       "      <td>None</td>\n",
       "      <td>False</td>\n",
       "      <td>mahoudeerqueen</td>\n",
       "      <td>None</td>\n",
       "      <td>None</td>\n",
       "      <td>None</td>\n",
       "      <td>None</td>\n",
       "      <td>None</td>\n",
       "      <td>False</td>\n",
       "      <td>...</td>\n",
       "      <td>140.0</td>\n",
       "      <td>My grandma visited his store and asked if he e...</td>\n",
       "      <td>21812</td>\n",
       "      <td>https://i.redd.it/ttt1j3jsnd111.jpg</td>\n",
       "      <td>[]</td>\n",
       "      <td>None</td>\n",
       "      <td>False</td>\n",
       "      <td>all_ads</td>\n",
       "      <td>6</td>\n",
       "      <td>2018-06-01 15:58:07.690979+00:00</td>\n",
       "    </tr>\n",
       "    <tr>\n",
       "      <th>3</th>\n",
       "      <td>None</td>\n",
       "      <td>None</td>\n",
       "      <td>False</td>\n",
       "      <td>4noop</td>\n",
       "      <td>None</td>\n",
       "      <td>None</td>\n",
       "      <td>None</td>\n",
       "      <td>None</td>\n",
       "      <td>None</td>\n",
       "      <td>False</td>\n",
       "      <td>...</td>\n",
       "      <td>140.0</td>\n",
       "      <td>[Image] Never Give Up</td>\n",
       "      <td>11093</td>\n",
       "      <td>https://i.imgur.com/ouIEw7a.gifv</td>\n",
       "      <td>[]</td>\n",
       "      <td>None</td>\n",
       "      <td>False</td>\n",
       "      <td>all_ads</td>\n",
       "      <td>6</td>\n",
       "      <td>2018-06-01 15:58:07.690979+00:00</td>\n",
       "    </tr>\n",
       "    <tr>\n",
       "      <th>4</th>\n",
       "      <td>None</td>\n",
       "      <td>None</td>\n",
       "      <td>False</td>\n",
       "      <td>ScaryChicken</td>\n",
       "      <td>None</td>\n",
       "      <td>None</td>\n",
       "      <td>None</td>\n",
       "      <td>None</td>\n",
       "      <td>None</td>\n",
       "      <td>False</td>\n",
       "      <td>...</td>\n",
       "      <td>140.0</td>\n",
       "      <td>Two lions, two tigers and a jaguar have report...</td>\n",
       "      <td>30261</td>\n",
       "      <td>https://bbc.in/2LfjZHd</td>\n",
       "      <td>[]</td>\n",
       "      <td>None</td>\n",
       "      <td>False</td>\n",
       "      <td>all_ads</td>\n",
       "      <td>6</td>\n",
       "      <td>2018-06-01 15:58:07.690979+00:00</td>\n",
       "    </tr>\n",
       "  </tbody>\n",
       "</table>\n",
       "<p>5 rows × 84 columns</p>\n",
       "</div>"
      ],
      "text/plain": [
       "  approved_at_utc approved_by  archived          author  \\\n",
       "0            None        None     False    Cigs_in_side   \n",
       "1            None        None     False   unknown_human   \n",
       "2            None        None     False  mahoudeerqueen   \n",
       "3            None        None     False           4noop   \n",
       "4            None        None     False    ScaryChicken   \n",
       "\n",
       "  author_flair_css_class author_flair_template_id author_flair_text  \\\n",
       "0                   None                     None              None   \n",
       "1                   None                     None              None   \n",
       "2                   None                     None              None   \n",
       "3                   None                     None              None   \n",
       "4                   None                     None              None   \n",
       "\n",
       "  banned_at_utc banned_by  can_gild                ...                 \\\n",
       "0          None      None     False                ...                  \n",
       "1          None      None     False                ...                  \n",
       "2          None      None     False                ...                  \n",
       "3          None      None     False                ...                  \n",
       "4          None      None     False                ...                  \n",
       "\n",
       "   thumbnail_width                                              title    ups  \\\n",
       "0            140.0                                     Child for sale  15615   \n",
       "1            140.0  Conan at a pub in Belfast yesterday (x-post /r...  21938   \n",
       "2            140.0  My grandma visited his store and asked if he e...  21812   \n",
       "3            140.0                              [Image] Never Give Up  11093   \n",
       "4            140.0  Two lions, two tigers and a jaguar have report...  30261   \n",
       "\n",
       "                                   url  user_reports view_count visited  \\\n",
       "0  https://i.redd.it/nyenf6bxxd111.jpg            []       None   False   \n",
       "1     https://i.imgur.com/jxSdMv2.gifv            []       None   False   \n",
       "2  https://i.redd.it/ttt1j3jsnd111.jpg            []       None   False   \n",
       "3     https://i.imgur.com/ouIEw7a.gifv            []       None   False   \n",
       "4               https://bbc.in/2LfjZHd            []       None   False   \n",
       "\n",
       "  whitelist_status wls                      time fetched  \n",
       "0        promo_all   5  2018-06-01 15:58:07.690979+00:00  \n",
       "1          all_ads   6  2018-06-01 15:58:07.690979+00:00  \n",
       "2          all_ads   6  2018-06-01 15:58:07.690979+00:00  \n",
       "3          all_ads   6  2018-06-01 15:58:07.690979+00:00  \n",
       "4          all_ads   6  2018-06-01 15:58:07.690979+00:00  \n",
       "\n",
       "[5 rows x 84 columns]"
      ]
     },
     "execution_count": 7,
     "metadata": {},
     "output_type": "execute_result"
    }
   ],
   "source": [
    "# Create dictionary from first 25 posts, including a column for the time the data was scraped \n",
    "red = [child['data'] for child in data['data']['children']]\n",
    "red = pd.DataFrame(red)\n",
    "time = pd.Timestamp.utcnow()\n",
    "red['time fetched'] = time\n",
    "red.head()"
   ]
  },
  {
   "cell_type": "code",
   "execution_count": 8,
   "metadata": {},
   "outputs": [
    {
     "data": {
      "text/plain": [
       "(25, 84)"
      ]
     },
     "execution_count": 8,
     "metadata": {},
     "output_type": "execute_result"
    }
   ],
   "source": [
    "# Inspect number of rows and columns \n",
    "red.shape"
   ]
  },
  {
   "cell_type": "code",
   "execution_count": 9,
   "metadata": {},
   "outputs": [
    {
     "data": {
      "text/plain": [
       "Index(['approved_at_utc', 'approved_by', 'archived', 'author',\n",
       "       'author_flair_css_class', 'author_flair_template_id',\n",
       "       'author_flair_text', 'banned_at_utc', 'banned_by', 'can_gild',\n",
       "       'can_mod_post', 'clicked', 'contest_mode', 'created', 'created_utc',\n",
       "       'crosspost_parent', 'crosspost_parent_list', 'distinguished', 'domain',\n",
       "       'downs', 'edited', 'gilded', 'hidden', 'hide_score', 'id',\n",
       "       'is_crosspostable', 'is_reddit_media_domain', 'is_self', 'is_video',\n",
       "       'likes', 'link_flair_css_class', 'link_flair_text', 'locked', 'media',\n",
       "       'media_embed', 'media_only', 'mod_note', 'mod_reason_by',\n",
       "       'mod_reason_title', 'mod_reports', 'name', 'no_follow', 'num_comments',\n",
       "       'num_crossposts', 'num_reports', 'over_18', 'parent_whitelist_status',\n",
       "       'permalink', 'pinned', 'post_categories', 'post_hint', 'preview',\n",
       "       'previous_visits', 'pwls', 'quarantine', 'removal_reason',\n",
       "       'report_reasons', 'saved', 'score', 'secure_media',\n",
       "       'secure_media_embed', 'selftext', 'selftext_html', 'send_replies',\n",
       "       'spoiler', 'stickied', 'subreddit', 'subreddit_id',\n",
       "       'subreddit_name_prefixed', 'subreddit_subscribers', 'subreddit_type',\n",
       "       'suggested_sort', 'thumbnail', 'thumbnail_height', 'thumbnail_width',\n",
       "       'title', 'ups', 'url', 'user_reports', 'view_count', 'visited',\n",
       "       'whitelist_status', 'wls', 'time fetched'],\n",
       "      dtype='object')"
      ]
     },
     "execution_count": 9,
     "metadata": {},
     "output_type": "execute_result"
    }
   ],
   "source": [
    "# Inspect column names \n",
    "red.columns"
   ]
  },
  {
   "cell_type": "code",
   "execution_count": 10,
   "metadata": {},
   "outputs": [
    {
     "data": {
      "text/html": [
       "<div>\n",
       "<style scoped>\n",
       "    .dataframe tbody tr th:only-of-type {\n",
       "        vertical-align: middle;\n",
       "    }\n",
       "\n",
       "    .dataframe tbody tr th {\n",
       "        vertical-align: top;\n",
       "    }\n",
       "\n",
       "    .dataframe thead th {\n",
       "        text-align: right;\n",
       "    }\n",
       "</style>\n",
       "<table border=\"1\" class=\"dataframe\">\n",
       "  <thead>\n",
       "    <tr style=\"text-align: right;\">\n",
       "      <th></th>\n",
       "      <th>approved_at_utc</th>\n",
       "      <th>approved_by</th>\n",
       "      <th>archived</th>\n",
       "      <th>author</th>\n",
       "      <th>author_cakeday</th>\n",
       "      <th>author_flair_css_class</th>\n",
       "      <th>author_flair_template_id</th>\n",
       "      <th>author_flair_text</th>\n",
       "      <th>banned_at_utc</th>\n",
       "      <th>banned_by</th>\n",
       "      <th>...</th>\n",
       "      <th>thumbnail_width</th>\n",
       "      <th>time fetched</th>\n",
       "      <th>title</th>\n",
       "      <th>ups</th>\n",
       "      <th>url</th>\n",
       "      <th>user_reports</th>\n",
       "      <th>view_count</th>\n",
       "      <th>visited</th>\n",
       "      <th>whitelist_status</th>\n",
       "      <th>wls</th>\n",
       "    </tr>\n",
       "  </thead>\n",
       "  <tbody>\n",
       "    <tr>\n",
       "      <th>0</th>\n",
       "      <td>None</td>\n",
       "      <td>None</td>\n",
       "      <td>False</td>\n",
       "      <td>Cigs_in_side</td>\n",
       "      <td>NaN</td>\n",
       "      <td>None</td>\n",
       "      <td>None</td>\n",
       "      <td>None</td>\n",
       "      <td>None</td>\n",
       "      <td>None</td>\n",
       "      <td>...</td>\n",
       "      <td>140.0</td>\n",
       "      <td>2018-06-01 16:00:17.555776+00:00</td>\n",
       "      <td>Child for sale</td>\n",
       "      <td>15615</td>\n",
       "      <td>https://i.redd.it/nyenf6bxxd111.jpg</td>\n",
       "      <td>[]</td>\n",
       "      <td>None</td>\n",
       "      <td>False</td>\n",
       "      <td>promo_all</td>\n",
       "      <td>5.0</td>\n",
       "    </tr>\n",
       "    <tr>\n",
       "      <th>1</th>\n",
       "      <td>None</td>\n",
       "      <td>None</td>\n",
       "      <td>False</td>\n",
       "      <td>unknown_human</td>\n",
       "      <td>NaN</td>\n",
       "      <td>None</td>\n",
       "      <td>None</td>\n",
       "      <td>None</td>\n",
       "      <td>None</td>\n",
       "      <td>None</td>\n",
       "      <td>...</td>\n",
       "      <td>140.0</td>\n",
       "      <td>2018-06-01 16:00:17.555776+00:00</td>\n",
       "      <td>Conan at a pub in Belfast yesterday (x-post /r...</td>\n",
       "      <td>21938</td>\n",
       "      <td>https://i.imgur.com/jxSdMv2.gifv</td>\n",
       "      <td>[]</td>\n",
       "      <td>None</td>\n",
       "      <td>False</td>\n",
       "      <td>all_ads</td>\n",
       "      <td>6.0</td>\n",
       "    </tr>\n",
       "    <tr>\n",
       "      <th>2</th>\n",
       "      <td>None</td>\n",
       "      <td>None</td>\n",
       "      <td>False</td>\n",
       "      <td>mahoudeerqueen</td>\n",
       "      <td>NaN</td>\n",
       "      <td>None</td>\n",
       "      <td>None</td>\n",
       "      <td>None</td>\n",
       "      <td>None</td>\n",
       "      <td>None</td>\n",
       "      <td>...</td>\n",
       "      <td>140.0</td>\n",
       "      <td>2018-06-01 16:00:17.555776+00:00</td>\n",
       "      <td>My grandma visited his store and asked if he e...</td>\n",
       "      <td>21812</td>\n",
       "      <td>https://i.redd.it/ttt1j3jsnd111.jpg</td>\n",
       "      <td>[]</td>\n",
       "      <td>None</td>\n",
       "      <td>False</td>\n",
       "      <td>all_ads</td>\n",
       "      <td>6.0</td>\n",
       "    </tr>\n",
       "    <tr>\n",
       "      <th>3</th>\n",
       "      <td>None</td>\n",
       "      <td>None</td>\n",
       "      <td>False</td>\n",
       "      <td>4noop</td>\n",
       "      <td>NaN</td>\n",
       "      <td>None</td>\n",
       "      <td>None</td>\n",
       "      <td>None</td>\n",
       "      <td>None</td>\n",
       "      <td>None</td>\n",
       "      <td>...</td>\n",
       "      <td>140.0</td>\n",
       "      <td>2018-06-01 16:00:17.555776+00:00</td>\n",
       "      <td>[Image] Never Give Up</td>\n",
       "      <td>11093</td>\n",
       "      <td>https://i.imgur.com/ouIEw7a.gifv</td>\n",
       "      <td>[]</td>\n",
       "      <td>None</td>\n",
       "      <td>False</td>\n",
       "      <td>all_ads</td>\n",
       "      <td>6.0</td>\n",
       "    </tr>\n",
       "    <tr>\n",
       "      <th>4</th>\n",
       "      <td>None</td>\n",
       "      <td>None</td>\n",
       "      <td>False</td>\n",
       "      <td>ScaryChicken</td>\n",
       "      <td>NaN</td>\n",
       "      <td>None</td>\n",
       "      <td>None</td>\n",
       "      <td>None</td>\n",
       "      <td>None</td>\n",
       "      <td>None</td>\n",
       "      <td>...</td>\n",
       "      <td>140.0</td>\n",
       "      <td>2018-06-01 16:00:17.555776+00:00</td>\n",
       "      <td>Two lions, two tigers and a jaguar have report...</td>\n",
       "      <td>30261</td>\n",
       "      <td>https://bbc.in/2LfjZHd</td>\n",
       "      <td>[]</td>\n",
       "      <td>None</td>\n",
       "      <td>False</td>\n",
       "      <td>all_ads</td>\n",
       "      <td>6.0</td>\n",
       "    </tr>\n",
       "  </tbody>\n",
       "</table>\n",
       "<p>5 rows × 85 columns</p>\n",
       "</div>"
      ],
      "text/plain": [
       "  approved_at_utc approved_by  archived          author author_cakeday  \\\n",
       "0            None        None     False    Cigs_in_side            NaN   \n",
       "1            None        None     False   unknown_human            NaN   \n",
       "2            None        None     False  mahoudeerqueen            NaN   \n",
       "3            None        None     False           4noop            NaN   \n",
       "4            None        None     False    ScaryChicken            NaN   \n",
       "\n",
       "  author_flair_css_class author_flair_template_id author_flair_text  \\\n",
       "0                   None                     None              None   \n",
       "1                   None                     None              None   \n",
       "2                   None                     None              None   \n",
       "3                   None                     None              None   \n",
       "4                   None                     None              None   \n",
       "\n",
       "  banned_at_utc banned_by ...   thumbnail_width  \\\n",
       "0          None      None ...             140.0   \n",
       "1          None      None ...             140.0   \n",
       "2          None      None ...             140.0   \n",
       "3          None      None ...             140.0   \n",
       "4          None      None ...             140.0   \n",
       "\n",
       "                       time fetched  \\\n",
       "0  2018-06-01 16:00:17.555776+00:00   \n",
       "1  2018-06-01 16:00:17.555776+00:00   \n",
       "2  2018-06-01 16:00:17.555776+00:00   \n",
       "3  2018-06-01 16:00:17.555776+00:00   \n",
       "4  2018-06-01 16:00:17.555776+00:00   \n",
       "\n",
       "                                               title    ups  \\\n",
       "0                                     Child for sale  15615   \n",
       "1  Conan at a pub in Belfast yesterday (x-post /r...  21938   \n",
       "2  My grandma visited his store and asked if he e...  21812   \n",
       "3                              [Image] Never Give Up  11093   \n",
       "4  Two lions, two tigers and a jaguar have report...  30261   \n",
       "\n",
       "                                   url  user_reports view_count visited  \\\n",
       "0  https://i.redd.it/nyenf6bxxd111.jpg            []       None   False   \n",
       "1     https://i.imgur.com/jxSdMv2.gifv            []       None   False   \n",
       "2  https://i.redd.it/ttt1j3jsnd111.jpg            []       None   False   \n",
       "3     https://i.imgur.com/ouIEw7a.gifv            []       None   False   \n",
       "4               https://bbc.in/2LfjZHd            []       None   False   \n",
       "\n",
       "  whitelist_status  wls  \n",
       "0        promo_all  5.0  \n",
       "1          all_ads  6.0  \n",
       "2          all_ads  6.0  \n",
       "3          all_ads  6.0  \n",
       "4          all_ads  6.0  \n",
       "\n",
       "[5 rows x 85 columns]"
      ]
     },
     "execution_count": 10,
     "metadata": {},
     "output_type": "execute_result"
    }
   ],
   "source": [
    "# Scrape thousands of posts using method above - compile into a dataframe \n",
    "next_post = data['data']['after']\n",
    "for i in range(0,80):\n",
    "    URL = \"http://www.reddit.com/hot.json?after=\" + next_post\n",
    "    res = requests.get(URL, headers = {'User-agent':'Caitlin Bot 0.1'})\n",
    "    post = res.json()\n",
    "    time_now = pd.Timestamp.utcnow()\n",
    "    next_post = post['data']['after']\n",
    "    post_df = [child['data'] for child in post['data']['children']]\n",
    "    post_df = pd.DataFrame(post_df)\n",
    "    red = pd.concat([red, post_df], ignore_index = True)\n",
    "    red['time fetched'] = time_now\n",
    "    sleep(1)\n",
    "red.head()"
   ]
  },
  {
   "cell_type": "code",
   "execution_count": 11,
   "metadata": {},
   "outputs": [
    {
     "data": {
      "text/plain": [
       "(2025, 85)"
      ]
     },
     "execution_count": 11,
     "metadata": {},
     "output_type": "execute_result"
    }
   ],
   "source": [
    "# Inspect compiled dictionary \n",
    "red.shape"
   ]
  },
  {
   "cell_type": "code",
   "execution_count": 12,
   "metadata": {},
   "outputs": [
    {
     "data": {
      "text/html": [
       "<div>\n",
       "<style scoped>\n",
       "    .dataframe tbody tr th:only-of-type {\n",
       "        vertical-align: middle;\n",
       "    }\n",
       "\n",
       "    .dataframe tbody tr th {\n",
       "        vertical-align: top;\n",
       "    }\n",
       "\n",
       "    .dataframe thead th {\n",
       "        text-align: right;\n",
       "    }\n",
       "</style>\n",
       "<table border=\"1\" class=\"dataframe\">\n",
       "  <thead>\n",
       "    <tr style=\"text-align: right;\">\n",
       "      <th></th>\n",
       "      <th>title</th>\n",
       "      <th>subreddit</th>\n",
       "      <th>num_comments</th>\n",
       "      <th>created_utc</th>\n",
       "      <th>id</th>\n",
       "      <th>time fetched</th>\n",
       "    </tr>\n",
       "  </thead>\n",
       "  <tbody>\n",
       "    <tr>\n",
       "      <th>0</th>\n",
       "      <td>Child for sale</td>\n",
       "      <td>BlackPeopleTwitter</td>\n",
       "      <td>345</td>\n",
       "      <td>1.527857e+09</td>\n",
       "      <td>8nrl15</td>\n",
       "      <td>2018-06-01 16:00:17.555776+00:00</td>\n",
       "    </tr>\n",
       "    <tr>\n",
       "      <th>1</th>\n",
       "      <td>Conan at a pub in Belfast yesterday (x-post /r...</td>\n",
       "      <td>gifs</td>\n",
       "      <td>892</td>\n",
       "      <td>1.527854e+09</td>\n",
       "      <td>8nrb34</td>\n",
       "      <td>2018-06-01 16:00:17.555776+00:00</td>\n",
       "    </tr>\n",
       "    <tr>\n",
       "      <th>2</th>\n",
       "      <td>My grandma visited his store and asked if he e...</td>\n",
       "      <td>OldSchoolCool</td>\n",
       "      <td>466</td>\n",
       "      <td>1.527854e+09</td>\n",
       "      <td>8nr8ut</td>\n",
       "      <td>2018-06-01 16:00:17.555776+00:00</td>\n",
       "    </tr>\n",
       "    <tr>\n",
       "      <th>3</th>\n",
       "      <td>[Image] Never Give Up</td>\n",
       "      <td>GetMotivated</td>\n",
       "      <td>321</td>\n",
       "      <td>1.527857e+09</td>\n",
       "      <td>8nrlvu</td>\n",
       "      <td>2018-06-01 16:00:17.555776+00:00</td>\n",
       "    </tr>\n",
       "    <tr>\n",
       "      <th>4</th>\n",
       "      <td>Two lions, two tigers and a jaguar have report...</td>\n",
       "      <td>news</td>\n",
       "      <td>1817</td>\n",
       "      <td>1.527851e+09</td>\n",
       "      <td>8nr18g</td>\n",
       "      <td>2018-06-01 16:00:17.555776+00:00</td>\n",
       "    </tr>\n",
       "  </tbody>\n",
       "</table>\n",
       "</div>"
      ],
      "text/plain": [
       "                                               title           subreddit  \\\n",
       "0                                     Child for sale  BlackPeopleTwitter   \n",
       "1  Conan at a pub in Belfast yesterday (x-post /r...                gifs   \n",
       "2  My grandma visited his store and asked if he e...       OldSchoolCool   \n",
       "3                              [Image] Never Give Up        GetMotivated   \n",
       "4  Two lions, two tigers and a jaguar have report...                news   \n",
       "\n",
       "   num_comments   created_utc      id                      time fetched  \n",
       "0           345  1.527857e+09  8nrl15  2018-06-01 16:00:17.555776+00:00  \n",
       "1           892  1.527854e+09  8nrb34  2018-06-01 16:00:17.555776+00:00  \n",
       "2           466  1.527854e+09  8nr8ut  2018-06-01 16:00:17.555776+00:00  \n",
       "3           321  1.527857e+09  8nrlvu  2018-06-01 16:00:17.555776+00:00  \n",
       "4          1817  1.527851e+09  8nr18g  2018-06-01 16:00:17.555776+00:00  "
      ]
     },
     "execution_count": 12,
     "metadata": {},
     "output_type": "execute_result"
    }
   ],
   "source": [
    "# Look at 4 features: title, subreddit, num_comments, and created_utc\n",
    "red_4 = red[['title', 'subreddit', 'num_comments', 'created_utc', 'id', 'time fetched']].copy(deep = True)\n",
    "red_4.head()"
   ]
  },
  {
   "cell_type": "code",
   "execution_count": 13,
   "metadata": {},
   "outputs": [
    {
     "data": {
      "text/html": [
       "<div>\n",
       "<style scoped>\n",
       "    .dataframe tbody tr th:only-of-type {\n",
       "        vertical-align: middle;\n",
       "    }\n",
       "\n",
       "    .dataframe tbody tr th {\n",
       "        vertical-align: top;\n",
       "    }\n",
       "\n",
       "    .dataframe thead th {\n",
       "        text-align: right;\n",
       "    }\n",
       "</style>\n",
       "<table border=\"1\" class=\"dataframe\">\n",
       "  <thead>\n",
       "    <tr style=\"text-align: right;\">\n",
       "      <th></th>\n",
       "      <th>title</th>\n",
       "      <th>subreddit</th>\n",
       "      <th>num_comments</th>\n",
       "      <th>created_utc</th>\n",
       "      <th>id</th>\n",
       "      <th>time fetched</th>\n",
       "    </tr>\n",
       "  </thead>\n",
       "  <tbody>\n",
       "    <tr>\n",
       "      <th>0</th>\n",
       "      <td>Child for sale</td>\n",
       "      <td>BlackPeopleTwitter</td>\n",
       "      <td>345</td>\n",
       "      <td>2018-06-01 12:44:10</td>\n",
       "      <td>8nrl15</td>\n",
       "      <td>2018-06-01 16:00:17</td>\n",
       "    </tr>\n",
       "    <tr>\n",
       "      <th>1</th>\n",
       "      <td>Conan at a pub in Belfast yesterday (x-post /r...</td>\n",
       "      <td>gifs</td>\n",
       "      <td>892</td>\n",
       "      <td>2018-06-01 11:58:29</td>\n",
       "      <td>8nrb34</td>\n",
       "      <td>2018-06-01 16:00:17</td>\n",
       "    </tr>\n",
       "    <tr>\n",
       "      <th>2</th>\n",
       "      <td>My grandma visited his store and asked if he e...</td>\n",
       "      <td>OldSchoolCool</td>\n",
       "      <td>466</td>\n",
       "      <td>2018-06-01 11:47:25</td>\n",
       "      <td>8nr8ut</td>\n",
       "      <td>2018-06-01 16:00:17</td>\n",
       "    </tr>\n",
       "    <tr>\n",
       "      <th>3</th>\n",
       "      <td>[Image] Never Give Up</td>\n",
       "      <td>GetMotivated</td>\n",
       "      <td>321</td>\n",
       "      <td>2018-06-01 12:47:48</td>\n",
       "      <td>8nrlvu</td>\n",
       "      <td>2018-06-01 16:00:17</td>\n",
       "    </tr>\n",
       "    <tr>\n",
       "      <th>4</th>\n",
       "      <td>Two lions, two tigers and a jaguar have report...</td>\n",
       "      <td>news</td>\n",
       "      <td>1817</td>\n",
       "      <td>2018-06-01 11:07:23</td>\n",
       "      <td>8nr18g</td>\n",
       "      <td>2018-06-01 16:00:17</td>\n",
       "    </tr>\n",
       "  </tbody>\n",
       "</table>\n",
       "</div>"
      ],
      "text/plain": [
       "                                               title           subreddit  \\\n",
       "0                                     Child for sale  BlackPeopleTwitter   \n",
       "1  Conan at a pub in Belfast yesterday (x-post /r...                gifs   \n",
       "2  My grandma visited his store and asked if he e...       OldSchoolCool   \n",
       "3                              [Image] Never Give Up        GetMotivated   \n",
       "4  Two lions, two tigers and a jaguar have report...                news   \n",
       "\n",
       "   num_comments         created_utc      id        time fetched  \n",
       "0           345 2018-06-01 12:44:10  8nrl15 2018-06-01 16:00:17  \n",
       "1           892 2018-06-01 11:58:29  8nrb34 2018-06-01 16:00:17  \n",
       "2           466 2018-06-01 11:47:25  8nr8ut 2018-06-01 16:00:17  \n",
       "3           321 2018-06-01 12:47:48  8nrlvu 2018-06-01 16:00:17  \n",
       "4          1817 2018-06-01 11:07:23  8nr18g 2018-06-01 16:00:17  "
      ]
     },
     "execution_count": 13,
     "metadata": {},
     "output_type": "execute_result"
    }
   ],
   "source": [
    "# Convert created_utc to readable format\n",
    "red_4['created_utc'] = red_4['created_utc'].astype('datetime64[s]')\n",
    "red_4['time fetched'] = red_4['time fetched'].astype('datetime64[s]')\n",
    "red_4.head()"
   ]
  },
  {
   "cell_type": "code",
   "execution_count": 14,
   "metadata": {},
   "outputs": [],
   "source": [
    "# Create an Age feature: time fetched - created\n",
    "red_4['age'] = red_4['time fetched'] - red_4['created_utc']"
   ]
  },
  {
   "cell_type": "code",
   "execution_count": 15,
   "metadata": {},
   "outputs": [],
   "source": [
    "# Drop created and time fetched columns - age takes their place \n",
    "red_4.drop(['created_utc', 'time fetched'], axis = 1, inplace = True)"
   ]
  },
  {
   "cell_type": "code",
   "execution_count": 16,
   "metadata": {},
   "outputs": [
    {
     "data": {
      "text/html": [
       "<div>\n",
       "<style scoped>\n",
       "    .dataframe tbody tr th:only-of-type {\n",
       "        vertical-align: middle;\n",
       "    }\n",
       "\n",
       "    .dataframe tbody tr th {\n",
       "        vertical-align: top;\n",
       "    }\n",
       "\n",
       "    .dataframe thead th {\n",
       "        text-align: right;\n",
       "    }\n",
       "</style>\n",
       "<table border=\"1\" class=\"dataframe\">\n",
       "  <thead>\n",
       "    <tr style=\"text-align: right;\">\n",
       "      <th></th>\n",
       "      <th>title</th>\n",
       "      <th>subreddit</th>\n",
       "      <th>num_comments</th>\n",
       "      <th>id</th>\n",
       "      <th>age</th>\n",
       "    </tr>\n",
       "  </thead>\n",
       "  <tbody>\n",
       "    <tr>\n",
       "      <th>0</th>\n",
       "      <td>Child for sale</td>\n",
       "      <td>BlackPeopleTwitter</td>\n",
       "      <td>345</td>\n",
       "      <td>8nrl15</td>\n",
       "      <td>3.0</td>\n",
       "    </tr>\n",
       "    <tr>\n",
       "      <th>1</th>\n",
       "      <td>Conan at a pub in Belfast yesterday (x-post /r...</td>\n",
       "      <td>gifs</td>\n",
       "      <td>892</td>\n",
       "      <td>8nrb34</td>\n",
       "      <td>4.0</td>\n",
       "    </tr>\n",
       "    <tr>\n",
       "      <th>2</th>\n",
       "      <td>My grandma visited his store and asked if he e...</td>\n",
       "      <td>OldSchoolCool</td>\n",
       "      <td>466</td>\n",
       "      <td>8nr8ut</td>\n",
       "      <td>4.0</td>\n",
       "    </tr>\n",
       "    <tr>\n",
       "      <th>3</th>\n",
       "      <td>[Image] Never Give Up</td>\n",
       "      <td>GetMotivated</td>\n",
       "      <td>321</td>\n",
       "      <td>8nrlvu</td>\n",
       "      <td>3.0</td>\n",
       "    </tr>\n",
       "    <tr>\n",
       "      <th>4</th>\n",
       "      <td>Two lions, two tigers and a jaguar have report...</td>\n",
       "      <td>news</td>\n",
       "      <td>1817</td>\n",
       "      <td>8nr18g</td>\n",
       "      <td>4.0</td>\n",
       "    </tr>\n",
       "  </tbody>\n",
       "</table>\n",
       "</div>"
      ],
      "text/plain": [
       "                                               title           subreddit  \\\n",
       "0                                     Child for sale  BlackPeopleTwitter   \n",
       "1  Conan at a pub in Belfast yesterday (x-post /r...                gifs   \n",
       "2  My grandma visited his store and asked if he e...       OldSchoolCool   \n",
       "3                              [Image] Never Give Up        GetMotivated   \n",
       "4  Two lions, two tigers and a jaguar have report...                news   \n",
       "\n",
       "   num_comments      id  age  \n",
       "0           345  8nrl15  3.0  \n",
       "1           892  8nrb34  4.0  \n",
       "2           466  8nr8ut  4.0  \n",
       "3           321  8nrlvu  3.0  \n",
       "4          1817  8nr18g  4.0  "
      ]
     },
     "execution_count": 16,
     "metadata": {},
     "output_type": "execute_result"
    }
   ],
   "source": [
    "# Convert age into hours and inspect head of scrape \n",
    "red_4['age'] = red_4['age'].astype('timedelta64[h]')\n",
    "red_4.head()"
   ]
  },
  {
   "cell_type": "code",
   "execution_count": 17,
   "metadata": {},
   "outputs": [
    {
     "data": {
      "text/plain": [
       "title           0\n",
       "subreddit       0\n",
       "num_comments    0\n",
       "id              0\n",
       "age             0\n",
       "dtype: int64"
      ]
     },
     "execution_count": 17,
     "metadata": {},
     "output_type": "execute_result"
    }
   ],
   "source": [
    "# Check for missing data - none\n",
    "red_4.isna().sum()"
   ]
  },
  {
   "cell_type": "code",
   "execution_count": 18,
   "metadata": {},
   "outputs": [
    {
     "name": "stdout",
     "output_type": "stream",
     "text": [
      "<class 'pandas.core.frame.DataFrame'>\n",
      "RangeIndex: 2025 entries, 0 to 2024\n",
      "Data columns (total 5 columns):\n",
      "title           2025 non-null object\n",
      "subreddit       2025 non-null object\n",
      "num_comments    2025 non-null int64\n",
      "id              2025 non-null object\n",
      "age             2025 non-null float64\n",
      "dtypes: float64(1), int64(1), object(3)\n",
      "memory usage: 79.2+ KB\n"
     ]
    }
   ],
   "source": [
    "# Inspect data types\n",
    "red_4.info()"
   ]
  },
  {
   "cell_type": "code",
   "execution_count": 19,
   "metadata": {},
   "outputs": [
    {
     "data": {
      "text/plain": [
       "16776"
      ]
     },
     "execution_count": 19,
     "metadata": {},
     "output_type": "execute_result"
    }
   ],
   "source": [
    "# Inspect maximum number of comments in the recent scrape \n",
    "red_4['num_comments'].max()"
   ]
  },
  {
   "cell_type": "markdown",
   "metadata": {
    "focus": false,
    "id": "43e71edd-210e-42b1-9336-70a931f048af"
   },
   "source": [
    "## Step 2: Save Reddit data as a CSV"
   ]
  },
  {
   "cell_type": "code",
   "execution_count": 20,
   "metadata": {},
   "outputs": [
    {
     "data": {
      "text/plain": [
       "'Reddit_Posts2018_6_1_9_3.csv'"
      ]
     },
     "execution_count": 20,
     "metadata": {},
     "output_type": "execute_result"
    }
   ],
   "source": [
    "# Create filename based on current time \n",
    "current_time = datetime.datetime.now()\n",
    "date = (  str(current_time.year)+'_'+\n",
    "            str(current_time.month)+'_'+\n",
    "            str(current_time.day)+'_'+\n",
    "            str(current_time.hour)+'_'+\n",
    "            str(current_time.minute))\n",
    "filename = 'Reddit_Posts' + date + '.csv'\n",
    "filename"
   ]
  },
  {
   "cell_type": "code",
   "execution_count": 21,
   "metadata": {
    "focus": false,
    "id": "783fd153-28ac-47ab-bfca-27e7c1de95b4"
   },
   "outputs": [],
   "source": [
    "# Export to csv\n",
    "red_4.to_csv(filename)"
   ]
  },
  {
   "cell_type": "markdown",
   "metadata": {
    "focus": false,
    "id": "243e949e-2742-40af-872e-fec475fd306c"
   },
   "source": [
    "## Step 3: EDA and Feature Engineering"
   ]
  },
  {
   "cell_type": "code",
   "execution_count": 22,
   "metadata": {
    "focus": false,
    "id": "588f9845-6143-4bcc-bfd1-85d45b79303d",
    "scrolled": true
   },
   "outputs": [
    {
     "data": {
      "text/html": [
       "<div>\n",
       "<style scoped>\n",
       "    .dataframe tbody tr th:only-of-type {\n",
       "        vertical-align: middle;\n",
       "    }\n",
       "\n",
       "    .dataframe tbody tr th {\n",
       "        vertical-align: top;\n",
       "    }\n",
       "\n",
       "    .dataframe thead th {\n",
       "        text-align: right;\n",
       "    }\n",
       "</style>\n",
       "<table border=\"1\" class=\"dataframe\">\n",
       "  <thead>\n",
       "    <tr style=\"text-align: right;\">\n",
       "      <th></th>\n",
       "      <th>title</th>\n",
       "      <th>subreddit</th>\n",
       "      <th>num_comments</th>\n",
       "      <th>id</th>\n",
       "      <th>age</th>\n",
       "    </tr>\n",
       "  </thead>\n",
       "  <tbody>\n",
       "    <tr>\n",
       "      <th>0</th>\n",
       "      <td>Child for sale</td>\n",
       "      <td>BlackPeopleTwitter</td>\n",
       "      <td>345</td>\n",
       "      <td>8nrl15</td>\n",
       "      <td>3.0</td>\n",
       "    </tr>\n",
       "    <tr>\n",
       "      <th>1</th>\n",
       "      <td>Conan at a pub in Belfast yesterday (x-post /r...</td>\n",
       "      <td>gifs</td>\n",
       "      <td>892</td>\n",
       "      <td>8nrb34</td>\n",
       "      <td>4.0</td>\n",
       "    </tr>\n",
       "    <tr>\n",
       "      <th>2</th>\n",
       "      <td>My grandma visited his store and asked if he e...</td>\n",
       "      <td>OldSchoolCool</td>\n",
       "      <td>466</td>\n",
       "      <td>8nr8ut</td>\n",
       "      <td>4.0</td>\n",
       "    </tr>\n",
       "    <tr>\n",
       "      <th>3</th>\n",
       "      <td>[Image] Never Give Up</td>\n",
       "      <td>GetMotivated</td>\n",
       "      <td>321</td>\n",
       "      <td>8nrlvu</td>\n",
       "      <td>3.0</td>\n",
       "    </tr>\n",
       "    <tr>\n",
       "      <th>4</th>\n",
       "      <td>Two lions, two tigers and a jaguar have report...</td>\n",
       "      <td>news</td>\n",
       "      <td>1817</td>\n",
       "      <td>8nr18g</td>\n",
       "      <td>4.0</td>\n",
       "    </tr>\n",
       "  </tbody>\n",
       "</table>\n",
       "</div>"
      ],
      "text/plain": [
       "                                               title           subreddit  \\\n",
       "0                                     Child for sale  BlackPeopleTwitter   \n",
       "1  Conan at a pub in Belfast yesterday (x-post /r...                gifs   \n",
       "2  My grandma visited his store and asked if he e...       OldSchoolCool   \n",
       "3                              [Image] Never Give Up        GetMotivated   \n",
       "4  Two lions, two tigers and a jaguar have report...                news   \n",
       "\n",
       "   num_comments      id  age  \n",
       "0           345  8nrl15  3.0  \n",
       "1           892  8nrb34  4.0  \n",
       "2           466  8nr8ut  4.0  \n",
       "3           321  8nrlvu  3.0  \n",
       "4          1817  8nr18g  4.0  "
      ]
     },
     "execution_count": 22,
     "metadata": {},
     "output_type": "execute_result"
    }
   ],
   "source": [
    "# Load the data of the scraped results \n",
    "reddit = pd.read_csv(filename)\n",
    "reddit.drop('Unnamed: 0', axis = 1, inplace = True)\n",
    "reddit.head()"
   ]
  },
  {
   "cell_type": "code",
   "execution_count": 23,
   "metadata": {},
   "outputs": [
    {
     "name": "stdout",
     "output_type": "stream",
     "text": [
      "<class 'pandas.core.frame.DataFrame'>\n",
      "RangeIndex: 2025 entries, 0 to 2024\n",
      "Data columns (total 5 columns):\n",
      "title           2025 non-null object\n",
      "subreddit       2025 non-null object\n",
      "num_comments    2025 non-null int64\n",
      "id              2025 non-null object\n",
      "age             2025 non-null float64\n",
      "dtypes: float64(1), int64(1), object(3)\n",
      "memory usage: 79.2+ KB\n"
     ]
    }
   ],
   "source": [
    "# Inspect data types \n",
    "reddit.info()"
   ]
  },
  {
   "cell_type": "code",
   "execution_count": 24,
   "metadata": {},
   "outputs": [
    {
     "data": {
      "text/html": [
       "<div>\n",
       "<style scoped>\n",
       "    .dataframe tbody tr th:only-of-type {\n",
       "        vertical-align: middle;\n",
       "    }\n",
       "\n",
       "    .dataframe tbody tr th {\n",
       "        vertical-align: top;\n",
       "    }\n",
       "\n",
       "    .dataframe thead th {\n",
       "        text-align: right;\n",
       "    }\n",
       "</style>\n",
       "<table border=\"1\" class=\"dataframe\">\n",
       "  <thead>\n",
       "    <tr style=\"text-align: right;\">\n",
       "      <th></th>\n",
       "      <th>num_comments</th>\n",
       "      <th>age</th>\n",
       "    </tr>\n",
       "  </thead>\n",
       "  <tbody>\n",
       "    <tr>\n",
       "      <th>count</th>\n",
       "      <td>2025.000000</td>\n",
       "      <td>2025.000000</td>\n",
       "    </tr>\n",
       "    <tr>\n",
       "      <th>mean</th>\n",
       "      <td>106.168395</td>\n",
       "      <td>8.028148</td>\n",
       "    </tr>\n",
       "    <tr>\n",
       "      <th>std</th>\n",
       "      <td>464.264448</td>\n",
       "      <td>5.714960</td>\n",
       "    </tr>\n",
       "    <tr>\n",
       "      <th>min</th>\n",
       "      <td>0.000000</td>\n",
       "      <td>0.000000</td>\n",
       "    </tr>\n",
       "    <tr>\n",
       "      <th>25%</th>\n",
       "      <td>10.000000</td>\n",
       "      <td>3.000000</td>\n",
       "    </tr>\n",
       "    <tr>\n",
       "      <th>50%</th>\n",
       "      <td>24.000000</td>\n",
       "      <td>6.000000</td>\n",
       "    </tr>\n",
       "    <tr>\n",
       "      <th>75%</th>\n",
       "      <td>71.000000</td>\n",
       "      <td>12.000000</td>\n",
       "    </tr>\n",
       "    <tr>\n",
       "      <th>max</th>\n",
       "      <td>16776.000000</td>\n",
       "      <td>24.000000</td>\n",
       "    </tr>\n",
       "  </tbody>\n",
       "</table>\n",
       "</div>"
      ],
      "text/plain": [
       "       num_comments          age\n",
       "count   2025.000000  2025.000000\n",
       "mean     106.168395     8.028148\n",
       "std      464.264448     5.714960\n",
       "min        0.000000     0.000000\n",
       "25%       10.000000     3.000000\n",
       "50%       24.000000     6.000000\n",
       "75%       71.000000    12.000000\n",
       "max    16776.000000    24.000000"
      ]
     },
     "execution_count": 24,
     "metadata": {},
     "output_type": "execute_result"
    }
   ],
   "source": [
    "# Inspect numeric feature summary statistics \n",
    "reddit.describe()"
   ]
  },
  {
   "cell_type": "code",
   "execution_count": 25,
   "metadata": {
    "focus": false,
    "id": "c20d2498-151c-44c3-a453-3a333c79a0ac"
   },
   "outputs": [
    {
     "data": {
      "text/plain": [
       "24.0"
      ]
     },
     "execution_count": 25,
     "metadata": {},
     "output_type": "execute_result"
    }
   ],
   "source": [
    "# Calculate median number of comments \n",
    "median_comments = reddit['num_comments'].median()\n",
    "median_comments"
   ]
  },
  {
   "cell_type": "markdown",
   "metadata": {},
   "source": [
    "I want to predict a binary variable - whether the number of comments was low or high. I will create a new binary variable that is true when the number of comments is high (above the median) or low (below the median). "
   ]
  },
  {
   "cell_type": "code",
   "execution_count": 26,
   "metadata": {},
   "outputs": [
    {
     "data": {
      "text/html": [
       "<div>\n",
       "<style scoped>\n",
       "    .dataframe tbody tr th:only-of-type {\n",
       "        vertical-align: middle;\n",
       "    }\n",
       "\n",
       "    .dataframe tbody tr th {\n",
       "        vertical-align: top;\n",
       "    }\n",
       "\n",
       "    .dataframe thead th {\n",
       "        text-align: right;\n",
       "    }\n",
       "</style>\n",
       "<table border=\"1\" class=\"dataframe\">\n",
       "  <thead>\n",
       "    <tr style=\"text-align: right;\">\n",
       "      <th></th>\n",
       "      <th>title</th>\n",
       "      <th>subreddit</th>\n",
       "      <th>num_comments</th>\n",
       "      <th>id</th>\n",
       "      <th>age</th>\n",
       "      <th>Class_comments</th>\n",
       "    </tr>\n",
       "  </thead>\n",
       "  <tbody>\n",
       "    <tr>\n",
       "      <th>0</th>\n",
       "      <td>Child for sale</td>\n",
       "      <td>BlackPeopleTwitter</td>\n",
       "      <td>345</td>\n",
       "      <td>8nrl15</td>\n",
       "      <td>3.0</td>\n",
       "      <td>High</td>\n",
       "    </tr>\n",
       "    <tr>\n",
       "      <th>1</th>\n",
       "      <td>Conan at a pub in Belfast yesterday (x-post /r...</td>\n",
       "      <td>gifs</td>\n",
       "      <td>892</td>\n",
       "      <td>8nrb34</td>\n",
       "      <td>4.0</td>\n",
       "      <td>High</td>\n",
       "    </tr>\n",
       "    <tr>\n",
       "      <th>2</th>\n",
       "      <td>My grandma visited his store and asked if he e...</td>\n",
       "      <td>OldSchoolCool</td>\n",
       "      <td>466</td>\n",
       "      <td>8nr8ut</td>\n",
       "      <td>4.0</td>\n",
       "      <td>High</td>\n",
       "    </tr>\n",
       "    <tr>\n",
       "      <th>3</th>\n",
       "      <td>[Image] Never Give Up</td>\n",
       "      <td>GetMotivated</td>\n",
       "      <td>321</td>\n",
       "      <td>8nrlvu</td>\n",
       "      <td>3.0</td>\n",
       "      <td>High</td>\n",
       "    </tr>\n",
       "    <tr>\n",
       "      <th>4</th>\n",
       "      <td>Two lions, two tigers and a jaguar have report...</td>\n",
       "      <td>news</td>\n",
       "      <td>1817</td>\n",
       "      <td>8nr18g</td>\n",
       "      <td>4.0</td>\n",
       "      <td>High</td>\n",
       "    </tr>\n",
       "  </tbody>\n",
       "</table>\n",
       "</div>"
      ],
      "text/plain": [
       "                                               title           subreddit  \\\n",
       "0                                     Child for sale  BlackPeopleTwitter   \n",
       "1  Conan at a pub in Belfast yesterday (x-post /r...                gifs   \n",
       "2  My grandma visited his store and asked if he e...       OldSchoolCool   \n",
       "3                              [Image] Never Give Up        GetMotivated   \n",
       "4  Two lions, two tigers and a jaguar have report...                news   \n",
       "\n",
       "   num_comments      id  age Class_comments  \n",
       "0           345  8nrl15  3.0           High  \n",
       "1           892  8nrb34  4.0           High  \n",
       "2           466  8nr8ut  4.0           High  \n",
       "3           321  8nrlvu  3.0           High  \n",
       "4          1817  8nr18g  4.0           High  "
      ]
     },
     "execution_count": 26,
     "metadata": {},
     "output_type": "execute_result"
    }
   ],
   "source": [
    "# Create new column defining high: # comments > median and low: # comments < median \n",
    "reddit['Class_comments'] = reddit.apply(lambda x: 'High' if x['num_comments'] > median_comments else 'Low', axis = 1)\n",
    "reddit.head()"
   ]
  },
  {
   "cell_type": "markdown",
   "metadata": {},
   "source": [
    "I am compiling a master scrape dataframe from several days worth of scraping that might lead to a better model if there are trends in the posts that effect the number of comments. "
   ]
  },
  {
   "cell_type": "code",
   "execution_count": 28,
   "metadata": {},
   "outputs": [],
   "source": [
    "# Add recent scrape to master scrape\n",
    "reddit_master = pd.read_csv('Reddit_Posts.csv')\n",
    "for csv in ['Reddit_Posts2018_5_25_20_9.csv','Reddit_Posts2018_5_26_10_24.csv', 'Reddit_Posts2018_5_28_10_20.csv',\n",
    "            'Reddit_Posts2018_5_29_12_48.csv', 'Reddit_Posts2018_5_29_19_11.csv', \n",
    "            'Reddit_Posts2018_5_30_10_46.csv', 'Reddit_Posts2018_5_31_11_8.csv', 'Reddit_Posts2018_6_1_9_3.csv']:\n",
    "    new_red = pd.read_csv(csv)\n",
    "    reddit_master = pd.concat([reddit_master, new_red], ignore_index = True)\n",
    "\n",
    "# Drop duplicate posts - keeping the most up to date copy (oldest)\n",
    "reddit_master.drop_duplicates(subset = 'id', keep = 'last', inplace = True)\n",
    "reddit_master.drop('Unnamed: 0', axis = 1, inplace = True)\n",
    "\n",
    "# Calculate master median and assign high/low classes \n",
    "median_comments = reddit_master['num_comments'].median()\n",
    "reddit_master['Class_comments'] = reddit_master.apply(lambda x: 'High' if x['num_comments'] > median_comments else 'Low', axis = 1)"
   ]
  },
  {
   "cell_type": "code",
   "execution_count": 29,
   "metadata": {},
   "outputs": [
    {
     "data": {
      "text/plain": [
       "(15667, 6)"
      ]
     },
     "execution_count": 29,
     "metadata": {},
     "output_type": "execute_result"
    }
   ],
   "source": [
    "# Inspect master size\n",
    "reddit_master.shape"
   ]
  },
  {
   "cell_type": "markdown",
   "metadata": {
    "focus": false,
    "id": "a7afb2c0-d41e-4779-8216-91cd8dd4473f"
   },
   "source": [
    "Determine the baseline accuracy score that my models should perform better than "
   ]
  },
  {
   "cell_type": "code",
   "execution_count": 30,
   "metadata": {
    "focus": false,
    "id": "87a17d3d-b7f4-4747-9f75-f9af1d18a174"
   },
   "outputs": [
    {
     "data": {
      "text/plain": [
       "Low     0.500734\n",
       "High    0.499266\n",
       "Name: Class_comments, dtype: float64"
      ]
     },
     "execution_count": 30,
     "metadata": {},
     "output_type": "execute_result"
    }
   ],
   "source": [
    "# Baseline accuracy for this model is percentage of low vs high in the train set\n",
    "reddit_master['Class_comments'].value_counts()/reddit_master.shape[0]"
   ]
  },
  {
   "cell_type": "markdown",
   "metadata": {},
   "source": [
    "Baseline accuracy is the percentage of the majority class ('low'). Since I used the median to categorize the classes, one might expect that the split would be exactly 50/50. However in this case there must have been posts with exactly the median number of posts, which would be categorized as 'Low'."
   ]
  },
  {
   "cell_type": "code",
   "execution_count": 31,
   "metadata": {},
   "outputs": [
    {
     "data": {
      "image/png": "[encoded data removed]",
      "text/plain": [
       "<matplotlib.figure.Figure at 0x113390048>"
      ]
     },
     "metadata": {
      "image/png": {
       "height": 277,
       "width": 438
      }
     },
     "output_type": "display_data"
    }
   ],
   "source": [
    "# Plot age distribution of master scrape - right skewed \n",
    "sns.distplot(reddit_master['age'], kde = False)\n",
    "plt.xlabel(\"Age (hours)\")\n",
    "plt.ylabel('Frequency')\n",
    "plt.title('Post Age Distribution');"
   ]
  },
  {
   "cell_type": "code",
   "execution_count": 32,
   "metadata": {},
   "outputs": [
    {
     "data": {
      "image/png": "[encoded data removed]",
      "text/plain": [
       "<matplotlib.figure.Figure at 0x1130f5f60>"
      ]
     },
     "metadata": {
      "image/png": {
       "height": 332,
       "width": 406
      }
     },
     "output_type": "display_data"
    }
   ],
   "source": [
    "# Plot distribution of number of comments - master\n",
    "fig = plt.figure(figsize = (5,5))\n",
    "sns.distplot(reddit_master['num_comments'], kde = False)\n",
    "plt.xlabel(\"Number of comments\")\n",
    "plt.ylabel('Frequency')\n",
    "plt.title('Number of Comments Distribution (master scrape)');"
   ]
  },
  {
   "cell_type": "markdown",
   "metadata": {},
   "source": [
    "Number of comments is skewed right. There are very few posts with comments in the thousands. What makes these few posts so popular? "
   ]
  },
  {
   "cell_type": "code",
   "execution_count": 33,
   "metadata": {},
   "outputs": [
    {
     "data": {
      "image/png": "[encoded data removed]",
      "text/plain": [
       "<matplotlib.figure.Figure at 0x1130f3f98>"
      ]
     },
     "metadata": {
      "image/png": {
       "height": 332,
       "width": 428
      }
     },
     "output_type": "display_data"
    }
   ],
   "source": [
    "# Calculate mean number of comments per subreddit to identify high activity groups  \n",
    "mean_sub_com = reddit_master.groupby('subreddit').agg({'num_comments': 'mean'})\n",
    "top_mean_sub_com = mean_sub_com.sort_values('num_comments', ascending = False)\n",
    "\n",
    "# Plot top 15 subreddits based on mean number of comments per post \n",
    "fig = plt.figure(figsize = (5,5))\n",
    "sns.barplot(x = top_mean_sub_com['num_comments'].head(10), y = top_mean_sub_com.head(10).index)\n",
    "plt.xlabel('Mean number of comments per post')\n",
    "plt.ylabel('Subreddit')\n",
    "plt.title('Most active subreddits on popular list');"
   ]
  },
  {
   "cell_type": "markdown",
   "metadata": {},
   "source": [
    "## Step 4: Modeling and Model Evaluation"
   ]
  },
  {
   "cell_type": "markdown",
   "metadata": {
    "focus": false,
    "id": "4fb29de2-5b98-474c-a4ad-5170b72b9aea"
   },
   "source": [
    "### Tree Based Models \n",
    "\n",
    "I will look at the following NLP and tree based classification combinations with various features  \n",
    "\n",
    "1) Features: Subreddit  \n",
    "Preprocessing: Dummy  \n",
    "Model: RandomForest, GridSearch RandomForest  \n",
    "\n",
    "2) Features: Subreddit, IsCat, IsFunny\n",
    "Preprocessing: Dummy  \n",
    "Model: RandomForest, GridSearch RandomForest  \n",
    "\n",
    "3) Features: Title, age, subreddit  \n",
    "Preprocessing: CountVector title, dummy subreddit  \n",
    "Model: RandomForest, GridSearch RandomForest, and DecisionTreeClassifier    "
   ]
  },
  {
   "cell_type": "markdown",
   "metadata": {},
   "source": [
    "#### Model with Subreddit feature"
   ]
  },
  {
   "cell_type": "code",
   "execution_count": 34,
   "metadata": {},
   "outputs": [],
   "source": [
    "# Define X and y\n",
    "X = reddit_master['subreddit']\n",
    "y = reddit_master['Class_comments'].apply(lambda x: 1 if x == 'High' else 0)\n",
    "\n",
    "X = pd.get_dummies(X, drop_first = True)\n",
    "\n",
    "# Train test split\n",
    "X_train, X_test, y_train, y_test = train_test_split(X, y, test_size = 0.3)"
   ]
  },
  {
   "cell_type": "code",
   "execution_count": 35,
   "metadata": {
    "focus": false,
    "id": "ddbc6159-6854-4ca7-857f-bfecdaf6d9c2"
   },
   "outputs": [
    {
     "data": {
      "text/plain": [
       "0.7383535417996171"
      ]
     },
     "execution_count": 35,
     "metadata": {},
     "output_type": "execute_result"
    }
   ],
   "source": [
    "# Random Forest Model \n",
    "rf = RandomForestClassifier(n_estimators = 30)\n",
    "rf.fit(X_train, y_train)\n",
    "rf.score(X_test, y_test)"
   ]
  },
  {
   "cell_type": "code",
   "execution_count": 36,
   "metadata": {},
   "outputs": [
    {
     "data": {
      "text/plain": [
       "0.8032099215757796"
      ]
     },
     "execution_count": 36,
     "metadata": {},
     "output_type": "execute_result"
    }
   ],
   "source": [
    "# Model is very overfit since the test score is much lower than the train score \n",
    "rf.score(X_train, y_train)"
   ]
  },
  {
   "cell_type": "code",
   "execution_count": 37,
   "metadata": {},
   "outputs": [
    {
     "name": "stdout",
     "output_type": "stream",
     "text": [
      "0.7171256611344154\n",
      "{'min_samples_split': 3, 'n_estimators': 30}\n"
     ]
    }
   ],
   "source": [
    "# Gridsearch model above to reduce overfitting \n",
    "rf = RandomForestClassifier()\n",
    "rf_params = { \n",
    "    'min_samples_split': range(2,5),\n",
    "    'n_estimators': [30, 35, 40]\n",
    "}\n",
    "gs = GridSearchCV(rf, param_grid=rf_params)\n",
    "gs.fit(X_train, y_train)\n",
    "print(gs.best_score_)\n",
    "print(gs.best_params_)"
   ]
  },
  {
   "cell_type": "code",
   "execution_count": 38,
   "metadata": {},
   "outputs": [
    {
     "data": {
      "text/plain": [
       "0.7323973622633482"
      ]
     },
     "execution_count": 38,
     "metadata": {},
     "output_type": "execute_result"
    }
   ],
   "source": [
    "# Test score is better than the train score - model generalizes well \n",
    "gs.score(X_test, y_test)"
   ]
  },
  {
   "cell_type": "markdown",
   "metadata": {},
   "source": [
    "The tuned gridsearched model has a slighly better score than the default model. It does not suffer from overfitting like the untuned randfomforest model. "
   ]
  },
  {
   "cell_type": "markdown",
   "metadata": {},
   "source": [
    "#### Model with subreddit and new features "
   ]
  },
  {
   "cell_type": "code",
   "execution_count": 39,
   "metadata": {},
   "outputs": [],
   "source": [
    "# Create a new features, IsCat IsFunny, that is 1 if there is cat/funny in the title and 0 if there is not \n",
    "X = reddit_master[['title', 'subreddit']].copy(deep = True)\n",
    "y = reddit_master['Class_comments'].apply(lambda x: 1 if x == 'High' else 0)\n",
    "\n",
    "# Define IsCat column and dummy subreddits\n",
    "X['IsCat'] = X['title'].map(lambda x: 1 if 'cat' in x else 0)\n",
    "X['IsFunny'] = X['title'].map(lambda x: 1 if 'funny' in x else 0)\n",
    "X.drop('title', axis = 1, inplace = True)\n",
    "X = pd.get_dummies(X, drop_first = True)\n",
    "\n",
    "# Train test split\n",
    "X_train, X_test, y_train, y_test = train_test_split(X, y, test_size = 0.3)"
   ]
  },
  {
   "cell_type": "code",
   "execution_count": 44,
   "metadata": {},
   "outputs": [
    {
     "data": {
      "text/plain": [
       "0.7164433099340566"
      ]
     },
     "execution_count": 44,
     "metadata": {},
     "output_type": "execute_result"
    }
   ],
   "source": [
    "# Random Forest Model \n",
    "rf = RandomForestClassifier()\n",
    "rf.fit(X_train, y_train)\n",
    "rf.score(X_test, y_test)"
   ]
  },
  {
   "cell_type": "code",
   "execution_count": 45,
   "metadata": {},
   "outputs": [
    {
     "data": {
      "text/plain": [
       "0.8050337406529272"
      ]
     },
     "execution_count": 45,
     "metadata": {},
     "output_type": "execute_result"
    }
   ],
   "source": [
    "# Model is very overfit since the test score is much lower than the train score \n",
    "rf.score(X_train, y_train)"
   ]
  },
  {
   "cell_type": "code",
   "execution_count": 41,
   "metadata": {},
   "outputs": [
    {
     "name": "stdout",
     "output_type": "stream",
     "text": [
      "0.7232354550428598\n",
      "{'min_samples_split': 3, 'n_estimators': 100}\n"
     ]
    }
   ],
   "source": [
    "# Gridsearch model above to reduce overfitting \n",
    "rf = RandomForestClassifier()\n",
    "rf_params = { \n",
    "    'min_samples_split': range(2,5),\n",
    "    'n_estimators': [30, 100, 150]\n",
    "}\n",
    "gs = GridSearchCV(rf, param_grid=rf_params)\n",
    "gs.fit(X_train, y_train)\n",
    "print(gs.best_score_)\n",
    "print(gs.best_params_)"
   ]
  },
  {
   "cell_type": "code",
   "execution_count": 43,
   "metadata": {},
   "outputs": [
    {
     "data": {
      "text/plain": [
       "0.7219740480748776"
      ]
     },
     "execution_count": 43,
     "metadata": {},
     "output_type": "execute_result"
    }
   ],
   "source": [
    "# Test score is better than the train score - model generalizes well \n",
    "gs.score(X_test, y_test)"
   ]
  },
  {
   "cell_type": "markdown",
   "metadata": {},
   "source": [
    "It would appear that having Cat or Funny in the title does not improve the model when compared to the subreddit only model. The tuned model here has the same score, but is not overfit like the base randomforest model. The tuned model generalizes much better. "
   ]
  },
  {
   "cell_type": "markdown",
   "metadata": {},
   "source": [
    "#### Model with title, age, and subreddit"
   ]
  },
  {
   "cell_type": "code",
   "execution_count": 46,
   "metadata": {},
   "outputs": [
    {
     "data": {
      "text/plain": [
       "0.7094235269091682"
      ]
     },
     "execution_count": 46,
     "metadata": {},
     "output_type": "execute_result"
    }
   ],
   "source": [
    "# Look at all 3 features: title, subreddit, and age\n",
    "X = reddit_master[['title', 'age', 'subreddit']].copy(deep = True)\n",
    "y = reddit_master['Class_comments'].apply(lambda x: 1 if x == 'High' else 0)\n",
    "\n",
    "# Dummy subreddit \n",
    "X = pd.get_dummies(X, columns = ['subreddit'], drop_first = True)\n",
    "\n",
    "# Train / Test split \n",
    "X_train, X_test, y_train, y_test = train_test_split(X, y, test_size = 0.3, random_state = 42)\n",
    "\n",
    "# Define function to make sure features are the same in both the train and test \n",
    "def feature_check(train, test):\n",
    "    missing_cols = set(train.columns) - set(test.columns)\n",
    "    for c in missing_cols:\n",
    "        test[c] = 0\n",
    "    test = test[train.columns]\n",
    "    return test\n",
    "\n",
    "# TVEC fit transform only on title \n",
    "tvec = TfidfVectorizer(stop_words='english')\n",
    "X_train_counts = pd.DataFrame(tvec.fit_transform(X_train['title']).todense(),\n",
    "                              columns = ['t_' + w for w in tvec.get_feature_names()], index = X_train.index)\n",
    "X_test_counts = pd.DataFrame(tvec.transform(X_test['title']).todense(),\n",
    "                             columns = ['t_' + w for w in tvec.get_feature_names()], index = X_test.index)\n",
    "                              \n",
    "# Concat X_train_counts with X_train.drop(title)\n",
    "X_train_total = pd.concat([X_train_counts, X_train.drop('title', axis =1)], axis =1)\n",
    "X_test_total = pd.concat([X_test_counts, X_test.drop('title', axis =1)], axis =1)\n",
    "                              \n",
    "# Apply feature_check to make sure train and test have the same features\n",
    "X_test_total_checked = feature_check(X_train_total, X_test_total)\n",
    "\n",
    "# Random Forest Model \n",
    "rf = RandomForestClassifier()\n",
    "rf.fit(X_train_total, y_train)\n",
    "rf.score(X_test_total_checked, y_test)"
   ]
  },
  {
   "cell_type": "code",
   "execution_count": 47,
   "metadata": {},
   "outputs": [
    {
     "data": {
      "text/plain": [
       "0.97391938719679"
      ]
     },
     "execution_count": 47,
     "metadata": {},
     "output_type": "execute_result"
    }
   ],
   "source": [
    "# Model is very overfit since the test score is much lower than the train score \n",
    "rf.score(X_train_total, y_train)"
   ]
  },
  {
   "cell_type": "code",
   "execution_count": 48,
   "metadata": {},
   "outputs": [
    {
     "data": {
      "text/plain": [
       "(0.7111982491336859,\n",
       " {'max_depth': 80, 'min_samples_split': 4, 'n_estimators': 40})"
      ]
     },
     "execution_count": 48,
     "metadata": {},
     "output_type": "execute_result"
    }
   ],
   "source": [
    "# Gridsearch model above to reduce overfitting \n",
    "rf = RandomForestClassifier()\n",
    "rf_params = { 'max_depth': [60, 80],\n",
    "    'min_samples_split': range(3,5),\n",
    "    'n_estimators': [25, 35, 40]\n",
    "}\n",
    "gs = GridSearchCV(rf, param_grid=rf_params)\n",
    "gs.fit(X_train_total, y_train)\n",
    "gs.best_score_, gs.best_params_"
   ]
  },
  {
   "cell_type": "code",
   "execution_count": 49,
   "metadata": {},
   "outputs": [
    {
     "data": {
      "text/plain": [
       "0.7068708785364816"
      ]
     },
     "execution_count": 49,
     "metadata": {},
     "output_type": "execute_result"
    }
   ],
   "source": [
    "# Test score is better than the train score - model generalizes well \n",
    "gs.score(X_test_total, y_test)"
   ]
  },
  {
   "cell_type": "code",
   "execution_count": 50,
   "metadata": {},
   "outputs": [
    {
     "data": {
      "text/plain": [
       "0.681344394809615"
      ]
     },
     "execution_count": 50,
     "metadata": {},
     "output_type": "execute_result"
    }
   ],
   "source": [
    "# Decision Tree Model\n",
    "tree = DecisionTreeClassifier(criterion='gini')\n",
    "model = tree.fit(X_train_total, y_train)\n",
    "model.score(X_test_total_checked, y_test)"
   ]
  },
  {
   "cell_type": "markdown",
   "metadata": {},
   "source": [
    "Adding title and age features decreased the accuracy of the model. It would appear that subreddit is the most important feature when considering if a post will be highly commented. This makes sense since some subreddits have more activity and users than others. Here again, the tuned model has the same score as the base RF model, however it is not overfit. "
   ]
  },
  {
   "cell_type": "markdown",
   "metadata": {},
   "source": [
    "### Non-tree-based models\n",
    "\n",
    "I will look at the following NLP and non-tree based classification combinations with various features \n",
    "\n",
    "1) Features: Age and Subreddit  \n",
    "   Preprocessing: Dummy Subreddit names   \n",
    "   Models: Multinomial Naive Bayes, Logistic Regression, and KNN\n",
    "   \n",
    "2) Features: Title  \n",
    "   Preprocessing: TF-IDF, CountVectorizer  \n",
    "   Models: Multinomial Naive Bayes, Logistic Regression  \n",
    "   \n",
    "3) Features: Title, Age, and Subreddit  \n",
    "   Preprocessing: TF-IDF Title, Dummy Subreddit  \n",
    "   Models: Logistic Regression, Multinomial Naive Bayes, and KNN\n",
    "\n"
   ]
  },
  {
   "cell_type": "markdown",
   "metadata": {},
   "source": [
    "#### Models Using Age and Subreddit Features"
   ]
  },
  {
   "cell_type": "code",
   "execution_count": 51,
   "metadata": {},
   "outputs": [],
   "source": [
    "# Look at Subreddit and Age features only \n",
    "# Define X and y\n",
    "X = reddit_master[['age', 'subreddit']].copy(deep=True)\n",
    "y = reddit_master['Class_comments'].apply(lambda x: 1 if x == 'High' else 0)"
   ]
  },
  {
   "cell_type": "code",
   "execution_count": 52,
   "metadata": {},
   "outputs": [
    {
     "data": {
      "text/html": [
       "<div>\n",
       "<style scoped>\n",
       "    .dataframe tbody tr th:only-of-type {\n",
       "        vertical-align: middle;\n",
       "    }\n",
       "\n",
       "    .dataframe tbody tr th {\n",
       "        vertical-align: top;\n",
       "    }\n",
       "\n",
       "    .dataframe thead th {\n",
       "        text-align: right;\n",
       "    }\n",
       "</style>\n",
       "<table border=\"1\" class=\"dataframe\">\n",
       "  <thead>\n",
       "    <tr style=\"text-align: right;\">\n",
       "      <th></th>\n",
       "      <th>age</th>\n",
       "      <th>subreddit_1200isjerky</th>\n",
       "      <th>subreddit_13ReasonsWhy</th>\n",
       "      <th>subreddit_13or30</th>\n",
       "      <th>subreddit_1500isplenty</th>\n",
       "      <th>subreddit_195</th>\n",
       "      <th>subreddit_2healthbars</th>\n",
       "      <th>subreddit_2mad4madlads</th>\n",
       "      <th>subreddit_2meirl42meirl4meirl</th>\n",
       "      <th>subreddit_2meirl4meirl</th>\n",
       "      <th>...</th>\n",
       "      <th>subreddit_ynab</th>\n",
       "      <th>subreddit_youdontsurf</th>\n",
       "      <th>subreddit_yourmomshousepodcast</th>\n",
       "      <th>subreddit_youseeingthisshit</th>\n",
       "      <th>subreddit_youtube</th>\n",
       "      <th>subreddit_youtubehaiku</th>\n",
       "      <th>subreddit_yuruyuri</th>\n",
       "      <th>subreddit_zelda</th>\n",
       "      <th>subreddit_zerocarb</th>\n",
       "      <th>subreddit_zuckmemes</th>\n",
       "    </tr>\n",
       "  </thead>\n",
       "  <tbody>\n",
       "    <tr>\n",
       "      <th>2</th>\n",
       "      <td>4.0</td>\n",
       "      <td>0</td>\n",
       "      <td>0</td>\n",
       "      <td>0</td>\n",
       "      <td>0</td>\n",
       "      <td>0</td>\n",
       "      <td>0</td>\n",
       "      <td>0</td>\n",
       "      <td>0</td>\n",
       "      <td>0</td>\n",
       "      <td>...</td>\n",
       "      <td>0</td>\n",
       "      <td>0</td>\n",
       "      <td>0</td>\n",
       "      <td>0</td>\n",
       "      <td>0</td>\n",
       "      <td>0</td>\n",
       "      <td>0</td>\n",
       "      <td>0</td>\n",
       "      <td>0</td>\n",
       "      <td>0</td>\n",
       "    </tr>\n",
       "    <tr>\n",
       "      <th>8</th>\n",
       "      <td>5.0</td>\n",
       "      <td>0</td>\n",
       "      <td>0</td>\n",
       "      <td>0</td>\n",
       "      <td>0</td>\n",
       "      <td>0</td>\n",
       "      <td>0</td>\n",
       "      <td>0</td>\n",
       "      <td>0</td>\n",
       "      <td>0</td>\n",
       "      <td>...</td>\n",
       "      <td>0</td>\n",
       "      <td>0</td>\n",
       "      <td>0</td>\n",
       "      <td>0</td>\n",
       "      <td>0</td>\n",
       "      <td>0</td>\n",
       "      <td>0</td>\n",
       "      <td>0</td>\n",
       "      <td>0</td>\n",
       "      <td>0</td>\n",
       "    </tr>\n",
       "    <tr>\n",
       "      <th>9</th>\n",
       "      <td>6.0</td>\n",
       "      <td>0</td>\n",
       "      <td>0</td>\n",
       "      <td>0</td>\n",
       "      <td>0</td>\n",
       "      <td>0</td>\n",
       "      <td>0</td>\n",
       "      <td>0</td>\n",
       "      <td>0</td>\n",
       "      <td>0</td>\n",
       "      <td>...</td>\n",
       "      <td>0</td>\n",
       "      <td>0</td>\n",
       "      <td>0</td>\n",
       "      <td>0</td>\n",
       "      <td>0</td>\n",
       "      <td>0</td>\n",
       "      <td>0</td>\n",
       "      <td>0</td>\n",
       "      <td>0</td>\n",
       "      <td>0</td>\n",
       "    </tr>\n",
       "    <tr>\n",
       "      <th>12</th>\n",
       "      <td>6.0</td>\n",
       "      <td>0</td>\n",
       "      <td>0</td>\n",
       "      <td>0</td>\n",
       "      <td>0</td>\n",
       "      <td>0</td>\n",
       "      <td>0</td>\n",
       "      <td>0</td>\n",
       "      <td>0</td>\n",
       "      <td>0</td>\n",
       "      <td>...</td>\n",
       "      <td>0</td>\n",
       "      <td>0</td>\n",
       "      <td>0</td>\n",
       "      <td>0</td>\n",
       "      <td>0</td>\n",
       "      <td>0</td>\n",
       "      <td>0</td>\n",
       "      <td>0</td>\n",
       "      <td>0</td>\n",
       "      <td>0</td>\n",
       "    </tr>\n",
       "    <tr>\n",
       "      <th>14</th>\n",
       "      <td>6.0</td>\n",
       "      <td>0</td>\n",
       "      <td>0</td>\n",
       "      <td>0</td>\n",
       "      <td>0</td>\n",
       "      <td>0</td>\n",
       "      <td>0</td>\n",
       "      <td>0</td>\n",
       "      <td>0</td>\n",
       "      <td>0</td>\n",
       "      <td>...</td>\n",
       "      <td>0</td>\n",
       "      <td>0</td>\n",
       "      <td>0</td>\n",
       "      <td>0</td>\n",
       "      <td>0</td>\n",
       "      <td>0</td>\n",
       "      <td>0</td>\n",
       "      <td>0</td>\n",
       "      <td>0</td>\n",
       "      <td>0</td>\n",
       "    </tr>\n",
       "  </tbody>\n",
       "</table>\n",
       "<p>5 rows × 2785 columns</p>\n",
       "</div>"
      ],
      "text/plain": [
       "    age  subreddit_1200isjerky  subreddit_13ReasonsWhy  subreddit_13or30  \\\n",
       "2   4.0                      0                       0                 0   \n",
       "8   5.0                      0                       0                 0   \n",
       "9   6.0                      0                       0                 0   \n",
       "12  6.0                      0                       0                 0   \n",
       "14  6.0                      0                       0                 0   \n",
       "\n",
       "    subreddit_1500isplenty  subreddit_195  subreddit_2healthbars  \\\n",
       "2                        0              0                      0   \n",
       "8                        0              0                      0   \n",
       "9                        0              0                      0   \n",
       "12                       0              0                      0   \n",
       "14                       0              0                      0   \n",
       "\n",
       "    subreddit_2mad4madlads  subreddit_2meirl42meirl4meirl  \\\n",
       "2                        0                              0   \n",
       "8                        0                              0   \n",
       "9                        0                              0   \n",
       "12                       0                              0   \n",
       "14                       0                              0   \n",
       "\n",
       "    subreddit_2meirl4meirl         ...           subreddit_ynab  \\\n",
       "2                        0         ...                        0   \n",
       "8                        0         ...                        0   \n",
       "9                        0         ...                        0   \n",
       "12                       0         ...                        0   \n",
       "14                       0         ...                        0   \n",
       "\n",
       "    subreddit_youdontsurf  subreddit_yourmomshousepodcast  \\\n",
       "2                       0                               0   \n",
       "8                       0                               0   \n",
       "9                       0                               0   \n",
       "12                      0                               0   \n",
       "14                      0                               0   \n",
       "\n",
       "    subreddit_youseeingthisshit  subreddit_youtube  subreddit_youtubehaiku  \\\n",
       "2                             0                  0                       0   \n",
       "8                             0                  0                       0   \n",
       "9                             0                  0                       0   \n",
       "12                            0                  0                       0   \n",
       "14                            0                  0                       0   \n",
       "\n",
       "    subreddit_yuruyuri  subreddit_zelda  subreddit_zerocarb  \\\n",
       "2                    0                0                   0   \n",
       "8                    0                0                   0   \n",
       "9                    0                0                   0   \n",
       "12                   0                0                   0   \n",
       "14                   0                0                   0   \n",
       "\n",
       "    subreddit_zuckmemes  \n",
       "2                     0  \n",
       "8                     0  \n",
       "9                     0  \n",
       "12                    0  \n",
       "14                    0  \n",
       "\n",
       "[5 rows x 2785 columns]"
      ]
     },
     "execution_count": 52,
     "metadata": {},
     "output_type": "execute_result"
    }
   ],
   "source": [
    "# Dummy subreddit values \n",
    "X = pd.get_dummies(X, drop_first = True)\n",
    "X.head()"
   ]
  },
  {
   "cell_type": "code",
   "execution_count": 53,
   "metadata": {},
   "outputs": [],
   "source": [
    "# Train test split \n",
    "X_train, X_test, y_train, y_test = train_test_split(X, y, test_size = 0.3, random_state = 42)"
   ]
  },
  {
   "cell_type": "code",
   "execution_count": 54,
   "metadata": {},
   "outputs": [
    {
     "data": {
      "text/plain": [
       "0.7415443522654754"
      ]
     },
     "execution_count": 54,
     "metadata": {},
     "output_type": "execute_result"
    }
   ],
   "source": [
    "# Multinomial NB model on age and subreddit \n",
    "nb = MultinomialNB()\n",
    "nb.fit(X_train, y_train)\n",
    "nb.score(X_test, y_test)"
   ]
  },
  {
   "cell_type": "code",
   "execution_count": 55,
   "metadata": {},
   "outputs": [
    {
     "data": {
      "text/plain": [
       "0.7668581152946181"
      ]
     },
     "execution_count": 55,
     "metadata": {},
     "output_type": "execute_result"
    }
   ],
   "source": [
    "# Logistic Regression on age and subreddit \n",
    "logreg = LogisticRegression()\n",
    "logreg.fit(X_train, y_train)\n",
    "logreg.score(X_test, y_test)"
   ]
  },
  {
   "cell_type": "code",
   "execution_count": 56,
   "metadata": {},
   "outputs": [
    {
     "data": {
      "text/html": [
       "<div>\n",
       "<style scoped>\n",
       "    .dataframe tbody tr th:only-of-type {\n",
       "        vertical-align: middle;\n",
       "    }\n",
       "\n",
       "    .dataframe tbody tr th {\n",
       "        vertical-align: top;\n",
       "    }\n",
       "\n",
       "    .dataframe thead th {\n",
       "        text-align: right;\n",
       "    }\n",
       "</style>\n",
       "<table border=\"1\" class=\"dataframe\">\n",
       "  <thead>\n",
       "    <tr style=\"text-align: right;\">\n",
       "      <th></th>\n",
       "      <th>coef</th>\n",
       "    </tr>\n",
       "  </thead>\n",
       "  <tbody>\n",
       "    <tr>\n",
       "      <th>subreddit_gaming</th>\n",
       "      <td>22.200089</td>\n",
       "    </tr>\n",
       "    <tr>\n",
       "      <th>subreddit_FortNiteBR</th>\n",
       "      <td>19.306270</td>\n",
       "    </tr>\n",
       "    <tr>\n",
       "      <th>subreddit_funny</th>\n",
       "      <td>18.213889</td>\n",
       "    </tr>\n",
       "    <tr>\n",
       "      <th>subreddit_pics</th>\n",
       "      <td>16.981885</td>\n",
       "    </tr>\n",
       "    <tr>\n",
       "      <th>subreddit_todayilearned</th>\n",
       "      <td>15.269482</td>\n",
       "    </tr>\n",
       "    <tr>\n",
       "      <th>subreddit_news</th>\n",
       "      <td>13.326791</td>\n",
       "    </tr>\n",
       "    <tr>\n",
       "      <th>subreddit_worldnews</th>\n",
       "      <td>12.642102</td>\n",
       "    </tr>\n",
       "    <tr>\n",
       "      <th>subreddit_videos</th>\n",
       "      <td>11.219796</td>\n",
       "    </tr>\n",
       "    <tr>\n",
       "      <th>subreddit_BlackPeopleTwitter</th>\n",
       "      <td>11.174288</td>\n",
       "    </tr>\n",
       "    <tr>\n",
       "      <th>subreddit_MemeEconomy</th>\n",
       "      <td>10.960296</td>\n",
       "    </tr>\n",
       "  </tbody>\n",
       "</table>\n",
       "</div>"
      ],
      "text/plain": [
       "                                   coef\n",
       "subreddit_gaming              22.200089\n",
       "subreddit_FortNiteBR          19.306270\n",
       "subreddit_funny               18.213889\n",
       "subreddit_pics                16.981885\n",
       "subreddit_todayilearned       15.269482\n",
       "subreddit_news                13.326791\n",
       "subreddit_worldnews           12.642102\n",
       "subreddit_videos              11.219796\n",
       "subreddit_BlackPeopleTwitter  11.174288\n",
       "subreddit_MemeEconomy         10.960296"
      ]
     },
     "execution_count": 56,
     "metadata": {},
     "output_type": "execute_result"
    }
   ],
   "source": [
    "# Identify top predictors (highest odds ratio value from logreg coefficients) \n",
    "coefs = pd.DataFrame(logreg.coef_[0], index = X.columns, columns = ['coef'])\n",
    "coefs['coef'] = np.exp(coefs['coef'])\n",
    "coefs.sort_values(by='coef', ascending = False, inplace=True)\n",
    "coefs.head(10)"
   ]
  },
  {
   "cell_type": "code",
   "execution_count": 57,
   "metadata": {},
   "outputs": [
    {
     "data": {
      "text/plain": [
       "0.706019995745586"
      ]
     },
     "execution_count": 57,
     "metadata": {},
     "output_type": "execute_result"
    }
   ],
   "source": [
    "# KNN model \n",
    "knn = KNeighborsClassifier(n_neighbors=5)\n",
    "knn.fit(X_train, y_train)\n",
    "knn.score(X_test, y_test)"
   ]
  },
  {
   "cell_type": "markdown",
   "metadata": {},
   "source": [
    "Logistic regression performed the best with age and subreddit features. "
   ]
  },
  {
   "cell_type": "markdown",
   "metadata": {},
   "source": [
    "#### Model Using Title Feature"
   ]
  },
  {
   "cell_type": "code",
   "execution_count": 58,
   "metadata": {},
   "outputs": [],
   "source": [
    "# Try Multinomial Naive Bayes model with TF-IDF\n",
    "\n",
    "# Define X and y\n",
    "X = reddit_master['title']\n",
    "y = reddit_master['Class_comments'].apply(lambda x: 1 if x == 'High' else 0)\n",
    "\n",
    "# Train test split \n",
    "X_train, X_test, y_train, y_test = train_test_split(X, y, test_size = 0.3, random_state = 42)"
   ]
  },
  {
   "cell_type": "code",
   "execution_count": 59,
   "metadata": {},
   "outputs": [],
   "source": [
    "# Set up pipeline for TF-IDF and Multinomial NB\n",
    "tvec = TfidfVectorizer(stop_words='english')\n",
    "nb = MultinomialNB()\n",
    "nb_pipe = Pipeline([('tvec', tvec), ('nb', nb)])"
   ]
  },
  {
   "cell_type": "code",
   "execution_count": 60,
   "metadata": {},
   "outputs": [
    {
     "data": {
      "text/plain": [
       "0.5603063178047224"
      ]
     },
     "execution_count": 60,
     "metadata": {},
     "output_type": "execute_result"
    }
   ],
   "source": [
    "# Fit pipeline \n",
    "nb_pipe.fit(X_train, y_train)\n",
    "nb_pipe.score(X_test, y_test)"
   ]
  },
  {
   "cell_type": "code",
   "execution_count": 61,
   "metadata": {},
   "outputs": [],
   "source": [
    "# Set up pipeline for CountVectorizer and Multinomial NB\n",
    "cvec = CountVectorizer(stop_words='english')\n",
    "nb = MultinomialNB()\n",
    "nb_pipe_2 = Pipeline([('cvec', cvec), ('nb', nb)])"
   ]
  },
  {
   "cell_type": "code",
   "execution_count": 62,
   "metadata": {},
   "outputs": [
    {
     "data": {
      "text/plain": [
       "0.5651988938523719"
      ]
     },
     "execution_count": 62,
     "metadata": {},
     "output_type": "execute_result"
    }
   ],
   "source": [
    "# Fit pipeline \n",
    "nb_pipe_2.fit(X_train, y_train)\n",
    "nb_pipe_2.score(X_test, y_test)"
   ]
  },
  {
   "cell_type": "markdown",
   "metadata": {},
   "source": [
    "Count and TF-IDF performed nearly the same. Like Count, TF-IDF weights words based on frequency, however common words are penalized while rare words have more influence. "
   ]
  },
  {
   "cell_type": "code",
   "execution_count": 63,
   "metadata": {},
   "outputs": [],
   "source": [
    "# Define X and y\n",
    "X = reddit_master['title']\n",
    "y = reddit_master['Class_comments'].apply(lambda x: 1 if x == 'High' else 0)"
   ]
  },
  {
   "cell_type": "code",
   "execution_count": 64,
   "metadata": {},
   "outputs": [],
   "source": [
    "# Train test split \n",
    "X_train, X_test, y_train, y_test = train_test_split(X, y, test_size = 0.3, random_state = 42)"
   ]
  },
  {
   "cell_type": "code",
   "execution_count": 65,
   "metadata": {},
   "outputs": [],
   "source": [
    "# Set up pipeline for CountVectorizer and Logistic Regression \n",
    "cvec = CountVectorizer(stop_words = 'english')\n",
    "lr = LogisticRegression()\n",
    "lr_pipe = Pipeline([('cvec', cvec), ('lr', lr)])"
   ]
  },
  {
   "cell_type": "code",
   "execution_count": 66,
   "metadata": {},
   "outputs": [
    {
     "data": {
      "text/plain": [
       "0.5669006594341629"
      ]
     },
     "execution_count": 66,
     "metadata": {},
     "output_type": "execute_result"
    }
   ],
   "source": [
    "# Fit pipeline \n",
    "lr_pipe.fit(X_train, y_train)\n",
    "lr_pipe.score(X_test, y_test)"
   ]
  },
  {
   "cell_type": "code",
   "execution_count": 67,
   "metadata": {},
   "outputs": [
    {
     "data": {
      "text/html": [
       "<div>\n",
       "<style scoped>\n",
       "    .dataframe tbody tr th:only-of-type {\n",
       "        vertical-align: middle;\n",
       "    }\n",
       "\n",
       "    .dataframe tbody tr th {\n",
       "        vertical-align: top;\n",
       "    }\n",
       "\n",
       "    .dataframe thead th {\n",
       "        text-align: right;\n",
       "    }\n",
       "</style>\n",
       "<table border=\"1\" class=\"dataframe\">\n",
       "  <thead>\n",
       "    <tr style=\"text-align: right;\">\n",
       "      <th></th>\n",
       "      <th>coef</th>\n",
       "    </tr>\n",
       "  </thead>\n",
       "  <tbody>\n",
       "    <tr>\n",
       "      <th>wcgw</th>\n",
       "      <td>7.829302</td>\n",
       "    </tr>\n",
       "    <tr>\n",
       "      <th>invest</th>\n",
       "      <td>5.154360</td>\n",
       "    </tr>\n",
       "    <tr>\n",
       "      <th>digital</th>\n",
       "      <td>4.956398</td>\n",
       "    </tr>\n",
       "    <tr>\n",
       "      <th>pencil</th>\n",
       "      <td>3.988778</td>\n",
       "    </tr>\n",
       "    <tr>\n",
       "      <th>banned</th>\n",
       "      <td>3.849364</td>\n",
       "    </tr>\n",
       "  </tbody>\n",
       "</table>\n",
       "</div>"
      ],
      "text/plain": [
       "             coef\n",
       "wcgw     7.829302\n",
       "invest   5.154360\n",
       "digital  4.956398\n",
       "pencil   3.988778\n",
       "banned   3.849364"
      ]
     },
     "execution_count": 67,
     "metadata": {},
     "output_type": "execute_result"
    }
   ],
   "source": [
    "# Identify top predictors (highest odds ratio value from logreg coefficients) \n",
    "coefs = pd.DataFrame(lr_pipe.named_steps['lr'].coef_[0], index = lr_pipe.named_steps['cvec'].get_feature_names(),\n",
    "                     columns = ['coef'])\n",
    "coefs['coef'] = np.exp(coefs['coef'])\n",
    "coefs.sort_values(by='coef', ascending = False, inplace=True)\n",
    "coefs.head()"
   ]
  },
  {
   "cell_type": "markdown",
   "metadata": {},
   "source": [
    "Using title only as a feature results in very low accuracy rates (only slightly better than the baseline) "
   ]
  },
  {
   "cell_type": "markdown",
   "metadata": {},
   "source": [
    "#### Model Using Title, Age, and Subreddit Features"
   ]
  },
  {
   "cell_type": "code",
   "execution_count": 68,
   "metadata": {},
   "outputs": [
    {
     "data": {
      "text/plain": [
       "0.7740906190172304"
      ]
     },
     "execution_count": 68,
     "metadata": {},
     "output_type": "execute_result"
    }
   ],
   "source": [
    "# Try Model above using master reddit dataframe \n",
    "# Look at all 3 features: title, subreddit, and age\n",
    "X = reddit_master[['title', 'age', 'subreddit']].copy(deep = True)\n",
    "y = reddit_master['Class_comments'].apply(lambda x: 1 if x == 'High' else 0)\n",
    "\n",
    "# Dummy subreddit \n",
    "X = pd.get_dummies(X, columns = ['subreddit'], drop_first = True)\n",
    "\n",
    "# Train / Test split \n",
    "X_train, X_test, y_train, y_test = train_test_split(X, y, test_size = 0.3, random_state = 42)\n",
    "\n",
    "# TVEC fit transform only on title \n",
    "tvec = TfidfVectorizer(stop_words='english')\n",
    "X_train_counts = pd.DataFrame(tvec.fit_transform(X_train['title']).todense(),\n",
    "                              columns = ['t_' + w for w in tvec.get_feature_names()], index = X_train.index)\n",
    "X_test_counts = pd.DataFrame(tvec.transform(X_test['title']).todense(),\n",
    "                             columns = ['t_' + w for w in tvec.get_feature_names()], index = X_test.index)\n",
    "                              \n",
    "# Concat X_train_counts with X_train.drop(title)\n",
    "X_train_total = pd.concat([X_train_counts, X_train.drop('title', axis =1)], axis =1)\n",
    "X_test_total = pd.concat([X_test_counts, X_test.drop('title', axis =1)], axis =1)\n",
    "                              \n",
    "# Apply feature_check to make sure train and test have the same features\n",
    "X_test_total_checked = feature_check(X_train_total, X_test_total)\n",
    "\n",
    "# Fit and score model\n",
    "logreg = LogisticRegression(penalty = 'l2', C = 2.8)\n",
    "logreg.fit(X_train_total, y_train)\n",
    "logreg.score(X_test_total_checked, y_test)"
   ]
  },
  {
   "cell_type": "code",
   "execution_count": 69,
   "metadata": {},
   "outputs": [
    {
     "data": {
      "text/plain": [
       "(0.7691956957869779, {'C': 2.6, 'penalty': 'l2'})"
      ]
     },
     "execution_count": 69,
     "metadata": {},
     "output_type": "execute_result"
    }
   ],
   "source": [
    "# Gridsearch on best logistic regression model above\n",
    "lr_params = {'penalty':['l1', 'l2'], \n",
    "             'C': [2.3, 2.5, 2.6, 2.8,]}\n",
    "gs = GridSearchCV(LogisticRegression(), param_grid = lr_params)\n",
    "gs.fit(X_train_total, y_train)\n",
    "\n",
    "# Results \n",
    "gs.best_score_, gs.best_params_"
   ]
  },
  {
   "cell_type": "code",
   "execution_count": 70,
   "metadata": {},
   "outputs": [
    {
     "data": {
      "text/plain": [
       "0.7726015741331631"
      ]
     },
     "execution_count": 70,
     "metadata": {},
     "output_type": "execute_result"
    }
   ],
   "source": [
    "# Score gridsearch logreg model on test data\n",
    "gs.score(X_test_total_checked, y_test)"
   ]
  },
  {
   "cell_type": "code",
   "execution_count": 71,
   "metadata": {},
   "outputs": [
    {
     "data": {
      "image/png": "[encoded data removed]",
      "text/plain": [
       "<matplotlib.figure.Figure at 0x113742a90>"
      ]
     },
     "metadata": {
      "image/png": {
       "height": 244,
       "width": 386
      }
     },
     "output_type": "display_data"
    }
   ],
   "source": [
    "# Create a heatmap confusion matrix - get predictions \n",
    "predictions = gs.predict(X_test_total_checked)\n",
    "\n",
    "# Create confusion matrix \n",
    "classes = [\"Low\", 'High']\n",
    "cm = metrics.confusion_matrix(y_test, predictions)\n",
    "cm = pd.DataFrame(cm, columns=classes)\n",
    "cm.index = classes\n",
    "\n",
    "# Plot matrix on heatmap \n",
    "sns.heatmap(cm, annot=True, fmt='g');"
   ]
  },
  {
   "cell_type": "code",
   "execution_count": 72,
   "metadata": {},
   "outputs": [
    {
     "data": {
      "text/html": [
       "<div>\n",
       "<style scoped>\n",
       "    .dataframe tbody tr th:only-of-type {\n",
       "        vertical-align: middle;\n",
       "    }\n",
       "\n",
       "    .dataframe tbody tr th {\n",
       "        vertical-align: top;\n",
       "    }\n",
       "\n",
       "    .dataframe thead th {\n",
       "        text-align: right;\n",
       "    }\n",
       "</style>\n",
       "<table border=\"1\" class=\"dataframe\">\n",
       "  <thead>\n",
       "    <tr style=\"text-align: right;\">\n",
       "      <th></th>\n",
       "      <th>coef</th>\n",
       "    </tr>\n",
       "  </thead>\n",
       "  <tbody>\n",
       "    <tr>\n",
       "      <th>subreddit_gaming</th>\n",
       "      <td>50.435407</td>\n",
       "    </tr>\n",
       "    <tr>\n",
       "      <th>subreddit_FortNiteBR</th>\n",
       "      <td>44.971332</td>\n",
       "    </tr>\n",
       "    <tr>\n",
       "      <th>subreddit_pics</th>\n",
       "      <td>43.913860</td>\n",
       "    </tr>\n",
       "    <tr>\n",
       "      <th>subreddit_funny</th>\n",
       "      <td>40.789127</td>\n",
       "    </tr>\n",
       "    <tr>\n",
       "      <th>subreddit_todayilearned</th>\n",
       "      <td>34.409061</td>\n",
       "    </tr>\n",
       "    <tr>\n",
       "      <th>subreddit_worldnews</th>\n",
       "      <td>25.873347</td>\n",
       "    </tr>\n",
       "    <tr>\n",
       "      <th>subreddit_news</th>\n",
       "      <td>23.766901</td>\n",
       "    </tr>\n",
       "    <tr>\n",
       "      <th>subreddit_trashy</th>\n",
       "      <td>23.339671</td>\n",
       "    </tr>\n",
       "    <tr>\n",
       "      <th>subreddit_BlackPeopleTwitter</th>\n",
       "      <td>23.045882</td>\n",
       "    </tr>\n",
       "    <tr>\n",
       "      <th>subreddit_europe</th>\n",
       "      <td>22.761012</td>\n",
       "    </tr>\n",
       "  </tbody>\n",
       "</table>\n",
       "</div>"
      ],
      "text/plain": [
       "                                   coef\n",
       "subreddit_gaming              50.435407\n",
       "subreddit_FortNiteBR          44.971332\n",
       "subreddit_pics                43.913860\n",
       "subreddit_funny               40.789127\n",
       "subreddit_todayilearned       34.409061\n",
       "subreddit_worldnews           25.873347\n",
       "subreddit_news                23.766901\n",
       "subreddit_trashy              23.339671\n",
       "subreddit_BlackPeopleTwitter  23.045882\n",
       "subreddit_europe              22.761012"
      ]
     },
     "execution_count": 72,
     "metadata": {},
     "output_type": "execute_result"
    }
   ],
   "source": [
    "# Identify top predictors (highest odds ratio value from logreg coefficients) \n",
    "coefs = pd.DataFrame(gs.best_estimator_.coef_[0], index = X_train_total.columns, columns = ['coef'])\n",
    "coefs['coef'] = np.exp(coefs['coef'])\n",
    "coefs.sort_values(by='coef', ascending = False, inplace=True)\n",
    "coefs.head(10)"
   ]
  },
  {
   "cell_type": "code",
   "execution_count": 73,
   "metadata": {},
   "outputs": [
    {
     "data": {
      "text/plain": [
       "coef    1.307192\n",
       "Name: age, dtype: float64"
      ]
     },
     "execution_count": 73,
     "metadata": {},
     "output_type": "execute_result"
    }
   ],
   "source": [
    "# Determine post age odds ratio \n",
    "coefs.loc['age', :]"
   ]
  },
  {
   "cell_type": "markdown",
   "metadata": {},
   "source": [
    "It appears that the subreddit is the strongest indicator for how popular the post will be. This makes sense since some subreddits have more followers and thus a higher activitiy than others. Since I also looked at age, with 1 hour increase in age, the post has a 30% increase in odds of having a higher number of posts. This also makes sense since more people will have time to view and comment on the post the longer its been posted. "
   ]
  },
  {
   "cell_type": "code",
   "execution_count": 74,
   "metadata": {},
   "outputs": [
    {
     "data": {
      "text/plain": [
       "0.6787917464369283"
      ]
     },
     "execution_count": 74,
     "metadata": {},
     "output_type": "execute_result"
    }
   ],
   "source": [
    "# MultinomialNB with same three features above\n",
    "nb = MultinomialNB()\n",
    "nb.fit(X_train_total, y_train)\n",
    "nb.score(X_test_total_checked, y_test)"
   ]
  },
  {
   "cell_type": "code",
   "execution_count": 75,
   "metadata": {},
   "outputs": [
    {
     "data": {
      "text/plain": [
       "0.7034673473728994"
      ]
     },
     "execution_count": 75,
     "metadata": {},
     "output_type": "execute_result"
    }
   ],
   "source": [
    "# KNN model \n",
    "knn = KNeighborsClassifier(n_neighbors=5)\n",
    "knn.fit(X_train_total, y_train)\n",
    "knn.score(X_test_total_checked, y_test)"
   ]
  },
  {
   "cell_type": "markdown",
   "metadata": {},
   "source": [
    "Logistic regression had the best accuracy rate when compared to Naive Bayes, KNN, and tree based models. "
   ]
  },
  {
   "cell_type": "markdown",
   "metadata": {},
   "source": [
    "# Executive Summary\n"
   ]
  },
  {
   "cell_type": "markdown",
   "metadata": {},
   "source": [
    "#### FiveThirtyEight Proposal -  Hot or Not: Creating Popular Reddit Posts  \n",
    "\n",
    "FiveThirtyEight is a world leader in data journalism. By using statistical analysis, FiveThirtyEight publishes compelling stories in a variety of subjects. There is one subject, however, that has been largely absent from recent articles that surely deserves more attention: viral content. In the age of social media, content has never been easier to spread to the masses, so what exactly does it take to make attention grabbing posts on popular social media platforms?\n",
    "\n",
    "In order to maintain a breadth of data driven stories that are relevant to its readers, FiveThirtyEight should consider topics that are common to their base. I'm proposing something that fits the bill: a story about how to create a popular post on the world's sixth most visited website, Reddit, backed by machine learning models.\n",
    "\n",
    "By combining Natural Language Processing with machine learning, I was able to determine which characteristics of a Reddit post are most predictive of the overall interaction on a thread. By looking at features such as post title, subreddit, and age of the post, I was able to build a classification model that predicts if a post will have a high number of comments (defined as above the median number of comments) or low number (below the median). Not only does the model predict if a post will be popular based on these features, but it also gives insight into which features are most predictive.\n",
    "\n",
    "Using Reddit's open source API, I scraped over 15,000 posts from the popular subreddit over a 7 day period. I utilized a Bag of Words NLP method, TF-IDF, with a tuned Logistic Regression machine learning classification model to predict whether a post will have a high or low number of comments. This model had a 77% accuracy rate and generalized well to new data. The top predictors were all popular subreddits: gaming, FortNiteBR, pics, funny and todayilearned. The odds of having a highly comment post in these subreddits is much higher since they have the most followers and higher overall activity.  \n",
    "\n",
    "I share FiveThirtyEight's dedication to data driven journalism. I believe that an article on investigating viral social media content with NLP and Machine Learning would fit FiveThirtyEight's mission as well as be entertaining and informative to its readers. This proposal provides more details on my model, insights, and recommendations. I hope you find it enlightening and look forward to a possible partnership. "
   ]
  },
  {
   "cell_type": "code",
   "execution_count": null,
   "metadata": {},
   "outputs": [],
   "source": []
  }
 ],
 "metadata": {
  "anaconda-cloud": {},
  "kernelspec": {
   "display_name": "Python [conda env:anaconda3]",
   "language": "python",
   "name": "conda-env-anaconda3-py"
  },
  "language_info": {
   "codemirror_mode": {
    "name": "ipython",
    "version": 3
   },
   "file_extension": ".py",
   "mimetype": "text/x-python",
   "name": "python",
   "nbconvert_exporter": "python",
   "pygments_lexer": "ipython3",
   "version": "3.6.4"
  },
  "varInspector": {
   "cols": {
    "lenName": 16,
    "lenType": 16,
    "lenVar": 40
   },
   "kernels_config": {
    "python": {
     "delete_cmd_postfix": "",
     "delete_cmd_prefix": "del ",
     "library": "var_list.py",
     "varRefreshCmd": "print(var_dic_list())"
    },
    "r": {
     "delete_cmd_postfix": ") ",
     "delete_cmd_prefix": "rm(",
     "library": "var_list.r",
     "varRefreshCmd": "cat(var_dic_list()) "
    }
   },
   "types_to_exclude": [
    "module",
    "function",
    "builtin_function_or_method",
    "instance",
    "_Feature"
   ],
   "window_display": false
  }
 },
 "nbformat": 4,
 "nbformat_minor": 1
}
